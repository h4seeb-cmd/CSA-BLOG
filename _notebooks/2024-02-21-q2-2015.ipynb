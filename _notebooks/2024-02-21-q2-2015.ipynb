{
 "cells": [
  {
   "cell_type": "markdown",
   "metadata": {},
   "source": [
    "---\n",
    "toc: true\n",
    "comments: true\n",
    "layout: notebook\n",
    "title: Question 2 - 2015 FRQ\n",
    "description: Code and reflections on question 2 of the 2015 FRQ\n",
    "type: tangibles\n",
    "courses: { compsci: {week: 23} }\n",
    "authors: Mirza Beg\n",
    "---\n"
   ]
  },
  {
   "cell_type": "markdown",
   "metadata": {},
   "source": [
    "# Question\n",
    "Consider a guessing game in which a player tries to guess a hidden word. The hidden word contains only capital letters and has a length known to the player. A guess contains only capital letters and has the same length as the| hidden word. After a guess is made, the player is given a hint that is based on a comparison between the hidden word and the guess. Each position in the hint contains a character that corresponds to the letter in the same position in the guess. The following rules determine the characters that appear in the hint."
   ]
  },
  {
   "cell_type": "markdown",
   "metadata": {},
   "source": [
    "# Code"
   ]
  },
  {
   "cell_type": "code",
   "execution_count": 5,
   "metadata": {},
   "outputs": [
    {
     "name": "stdout",
     "output_type": "stream",
     "text": [
      "+A+++\n",
      "H****\n",
      "H*++*\n",
      "HAR*S\n",
      "HARPS\n"
     ]
    }
   ],
   "source": [
    "public class hiddenWord{\n",
    "    String secretWord;\n",
    "    public hiddenWord(String secretWord){\n",
    "        this.secretWord = secretWord;\n",
    "    }\n",
    "    public String getHint(String guess){\n",
    "\n",
    "        String secretWord = this.secretWord;\n",
    "        int wordLength = secretWord.length();\n",
    "        String hint = \"\";\n",
    "        for(int i = 0; i < wordLength; i++){\n",
    "            if(guess.charAt(i) == secretWord.charAt(i)){\n",
    "                hint += secretWord.charAt(i);\n",
    "            }\n",
    "            else if(secretWord.indexOf(guess.charAt(i)) != -1){\n",
    "                hint += '+';\n",
    "            } else {\n",
    "                hint += '*';\n",
    "            }\n",
    "        }\n",
    "        return hint;\n",
    "    }\n",
    "    public static void main(String args[]){\n",
    "        hiddenWord puzzle = new hiddenWord(\"HARPS\");\n",
    "        System.out.println(puzzle.getHint(\"AAAAA\"));\n",
    "        System.out.println(puzzle.getHint(\"HELLO\"));\n",
    "        System.out.println(puzzle.getHint(\"HEART\"));\n",
    "        System.out.println(puzzle.getHint(\"HARMS\"));\n",
    "        System.out.println(puzzle.getHint(\"HARPS\"));\n",
    "    }\n",
    "}\n",
    "\n",
    "hiddenWord.main(null);"
   ]
  },
  {
   "cell_type": "markdown",
   "metadata": {},
   "source": [
    "This question took me a long time and was quite challenging for a variety of different reasons. For one, I kept on trying to set hint as a string with no value, like secretWord, but I kept on getting errors, as hint isn't inputted as a parameter, but rather a string which is added to, as seen in the for loop below. I had a couple of mistakes on anatomy too, as I would miss small things like the brackets next to \"args\" in the main tester method. I was also struggling with isolating the characters, so I did have to research to find the charAt() method used. This method works to essentially index a string, allowing programmers to work with a specific character in a string, which was infinitely helpful here. Overall, I need to perfect my knowledge of Java anatomy, as that was a big thing here, and I need to do more research on various different methods that may be useful. "
   ]
  }
 ],
 "metadata": {
  "kernelspec": {
   "display_name": "Java",
   "language": "java",
   "name": "java"
  },
  "language_info": {
   "codemirror_mode": "java",
   "file_extension": ".jshell",
   "mimetype": "text/x-java-source",
   "name": "java",
   "pygments_lexer": "java",
   "version": "17.0.8.1+1-Ubuntu-0ubuntu120.04"
  }
 },
 "nbformat": 4,
 "nbformat_minor": 2
}
