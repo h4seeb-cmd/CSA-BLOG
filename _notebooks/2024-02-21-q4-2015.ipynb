{
 "cells": [
  {
   "cell_type": "markdown",
   "metadata": {},
   "source": [
    "---\n",
    "toc: true\n",
    "comments: true\n",
    "layout: notebook\n",
    "title: Question 4 - 2015 FRQ\n",
    "description: Code and reflections on question 4 of the 2015 FRQ\n",
    "type: tangibles\n",
    "courses: { compsci: {week: 23} }\n",
    "authors: Mirza Beg\n",
    "---\n"
   ]
  },
  {
   "cell_type": "markdown",
   "metadata": {},
   "source": [
    "# Full Code"
   ]
  },
  {
   "cell_type": "code",
   "execution_count": 5,
   "metadata": {
    "vscode": {
     "languageId": "java"
    }
   },
   "outputs": [
    {
     "name": "stdout",
     "output_type": "stream",
     "text": [
      "\n",
      "Part B Testing\n",
      "-----------------\n",
      "true\n",
      "true\n",
      "true\n",
      "false\n",
      "false\n"
     ]
    },
    {
     "name": "stdout",
     "output_type": "stream",
     "text": [
      "Part C Testing\n",
      "-----------------\n",
      "\n",
      "Test 1\n",
      "true\n",
      "\n",
      "Test 2\n",
      "false\n"
     ]
    }
   ],
   "source": [
    "// PART A\n",
    "public interface NumberGroup{\n",
    "    boolean contains(int val);\n",
    "}\n",
    "\n",
    "// PART B\n",
    "public class Range implements NumberGroup{\n",
    "    public int min;\n",
    "    public int max;\n",
    "\n",
    "    public Range(int min, int max){\n",
    "        this.min = min;\n",
    "        this.max = max;\n",
    "    }\n",
    "\n",
    "    @Override \n",
    "    public boolean contains(int val){\n",
    "        if(val <= this.max && val >= this.min){\n",
    "            return true;\n",
    "        }\n",
    "        return false;\n",
    "    }\n",
    "}\n",
    "public class bMain {\n",
    "    public static void main(String[] args) {\n",
    "        NumberGroup range = new Range(5, 10);\n",
    "\n",
    "        System.out.println(\"\\nPart B Testing\");\n",
    "        System.out.println(\"-----------------\");\n",
    "        System.out.println(range.contains(5));  // true\n",
    "        System.out.println(range.contains(10)); // true\n",
    "        System.out.println(range.contains(7));  // true\n",
    "        System.out.println(range.contains(4));  // false\n",
    "        System.out.println(range.contains(11)); // false\n",
    "    }\n",
    "}\n",
    "bMain.main(null);\n",
    "\n",
    "\n",
    "// PART C\n",
    "public class multipleGroups{\n",
    "    private List<NumberGroup> groupList;\n",
    "    public multipleGroups(List<NumberGroup> groupList){\n",
    "        this.groupList = groupList;\n",
    "    }\n",
    "    public boolean contains(int num){\n",
    "        for(NumberGroup group : groupList){\n",
    "            if(group.contains(num)){\n",
    "                return true;\n",
    "            }\n",
    "        }\n",
    "        return false;\n",
    "    }\n",
    "    public static void main(String[] args) {\n",
    "        Range range1 = new Range(1, 5);\n",
    "        Range range2 = new Range(10, 15);\n",
    "\n",
    "        List<NumberGroup> groupList = new ArrayList<NumberGroup>();\n",
    "        groupList.add(range1);\n",
    "        groupList.add(range2);\n",
    "        \n",
    "        System.out.println(\"Part C Testing\");\n",
    "        System.out.println(\"-----------------\");\n",
    "        \n",
    "        multipleGroups multiGroup = new multipleGroups(groupList);\n",
    "        System.out.println(\"\\nTest 1:\");\n",
    "        System.out.println(multiGroup.contains(5)); // should return true\n",
    "        \n",
    "        System.out.println(\"\\nTest 2:\");\n",
    "        System.out.println(multiGroup.contains(7)); // should return false\n",
    "    }\n",
    "}\n",
    "\n",
    "multipleGroups.main(null);"
   ]
  },
  {
   "cell_type": "markdown",
   "metadata": {},
   "source": [
    "# Part A\n",
    "A number group represents a group of integers defined in some way. It could be empty, or it could contain one or more integers. Write an interface named NumberGroup that represents a group of integers. The interface should have a single contains method that determines if a given integer is in the group. For example, if group1 is of type NumberGroup, and it contains only the two numbers -5 and 3, then group1.contains(-5) would return true, and group1.contains(2) would return false. Write the complete NumberGroup interface. It must have exactly one method."
   ]
  },
  {
   "cell_type": "code",
   "execution_count": null,
   "metadata": {
    "vscode": {
     "languageId": "java"
    }
   },
   "outputs": [],
   "source": [
    "public interface NumberGroup{\n",
    "    boolean contains(int val);\n",
    "}\n"
   ]
  },
  {
   "cell_type": "markdown",
   "metadata": {},
   "source": [
    "There's not much to write home about in this part, as it was just defining an interface. I gave the contains() method a boolean output because the question requires the outputs to be either \"true\" or \"false\". "
   ]
  },
  {
   "cell_type": "markdown",
   "metadata": {},
   "source": [
    "# Part B\n",
    "A range represents a number group that contains all (and only) the integers between a minimum value and a maximum value, inclusive. Write the Range class, which is a NumberGroup. The Range class represents the group of int values that range from a given minimum value up through a given maximum value, inclusive. For example, the declaration NumberGroup range1 = new Range(-3, 2); represents the group of integer values -3, -2, -1, 0, 1, 2. Write the complete Range class. Include all necessary instance variables and methods as well as a constructor that takes two int parameters. The first parameter represents the minimum value, and the second parameter represents the maximum value of the range. You may assume that the minimum is less than or equal to the maximum."
   ]
  },
  {
   "cell_type": "code",
   "execution_count": null,
   "metadata": {
    "vscode": {
     "languageId": "java"
    }
   },
   "outputs": [],
   "source": [
    "// PART B\n",
    "public class Range implements NumberGroup{\n",
    "    public int min;\n",
    "    public int max;\n",
    "\n",
    "    public Range(int min, int max){\n",
    "        this.min = min;\n",
    "        this.max = max;\n",
    "    }\n",
    "\n",
    "    @Override \n",
    "    public boolean contains(int val){\n",
    "        if(val <= this.max && val >= this.min){\n",
    "            return true;\n",
    "        }\n",
    "        return false;\n",
    "    }\n",
    "}"
   ]
  },
  {
   "cell_type": "markdown",
   "metadata": {},
   "source": [
    "This part needed me to add a class which implements the interface I made in part A, while also actually writing the logic for the contains() method. I wrote a constructor for range, which initialized a minumum value and a maximum value. These minimum and maximum values are the bounds for the range of numbers outputed. For example, if the minimum was 5 and the maximum was 10, the range of numbers outputted would be 5, 6, 7, 8, 9, and 10. The contains method just needs to check whether or not the value given via parameter is in between or equal to the minimum and maximum values. "
   ]
  },
  {
   "cell_type": "markdown",
   "metadata": {},
   "source": [
    "# Part C\n",
    "The MultipleGroups class (not shown) represents a collection of NumberGroup objects and is a NumberGroup. The MultipleGroups class stores the number groups in the instance variable groupList (shown below), which is initialized in the constructor. `private List<NumberGroup> groupList;` Write the MultipleGroups method contains. The method takes an integer and returns true if and only if the integer is contained in one or more of the number groups in groupList. For example, suppose multiple1 has been declared as an instance of MultipleGroups and consists of the three ranges created by the calls new Range(5, 8), new Range(10, 12), and new Range(1, 6). The following table shows the results of several calls to contains."
   ]
  },
  {
   "cell_type": "code",
   "execution_count": null,
   "metadata": {
    "vscode": {
     "languageId": "java"
    }
   },
   "outputs": [],
   "source": [
    "public class multipleGroups{\n",
    "    private List<NumberGroup> groupList;\n",
    "    public multipleGroups(List<NumberGroup> groupList){\n",
    "        this.groupList = groupList;\n",
    "    }\n",
    "    public boolean contains(int num){\n",
    "        for(NumberGroup group : groupList){\n",
    "            if(group.contains(num)){\n",
    "                return true;\n",
    "            }\n",
    "        }\n",
    "        return false;\n",
    "    }\n",
    "}"
   ]
  },
  {
   "cell_type": "markdown",
   "metadata": {},
   "source": [
    "This part required me to add functionality for multiple groups. This was pretty easy, as I just needed to iterate through every group and check whether or not the groups contain the number provided by the parameter using the .contains() method. "
   ]
  }
 ],
 "metadata": {
  "kernelspec": {
   "display_name": "Java",
   "language": "java",
   "name": "java"
  },
  "language_info": {
   "codemirror_mode": "java",
   "file_extension": ".jshell",
   "mimetype": "text/x-java-source",
   "name": "Java",
   "pygments_lexer": "java",
   "version": "11.0.17+8-post-Ubuntu-1ubuntu222.04"
  }
 },
 "nbformat": 4,
 "nbformat_minor": 2
}
