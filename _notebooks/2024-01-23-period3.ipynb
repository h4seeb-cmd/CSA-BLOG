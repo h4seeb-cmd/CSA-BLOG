{
 "cells": [
  {
   "cell_type": "markdown",
   "metadata": {},
   "source": [
    "---\n",
    "layout: post\n",
    "title: CB Reference Study Sheet\n",
    "toc: true\n",
    "comments: true\n",
    "description: CB Reflection, insights, and learnings\n",
    "courses: { csa: {week: 12} }\n",
    "type: hacks\n",
    "---"
   ]
  },
  {
   "cell_type": "markdown",
   "metadata": {},
   "source": [
    "# Question 8 (Mati and Edwin) \n",
    "\n",
    "<img src=\"{{ site.baseurl }}/images/q1.png\" alt=\"mainscore\">\n",
    "\n",
    "### College Board Explanation:\n",
    "\n",
    "Incorrect. This would be the result if the array results were assigned the products in the opposite order that they are calculated. In other words, for each value of j, the calculated product was assigned to result[result.length – 1 - j]. Correct. In the first iteration of the for loop, j is 0. The value of result[0] is assigned the product of row 1, column 0, which is 1 and row 0, column 2, which is 1. Therefore, result[0] is assigned the value 1. The second iteration of the for loop, when j is 1, result[1] is assigned the product of row 1, column 1, which is 2, and row 1, column 2, which is 3. Therefore, result[1] is assigned the value 6. The third iteration of the for loop, when j is 2, result[2] is assigned the product of row 1, column 2, which is 3, and row 2, column 2, which is 1. Therefore, result[2] is assigned the value 3. The final iteration of the for loop, when j is 3, result[3] is assigned the product of row 1, column 3, which is 4, and row 3, column 2, which is 1. Therefore, result[3] is assigned the value 4.\n",
    "\n",
    "### Popcorn Hack\n",
    "\n",
    "To make sure you understand the concept, please complete this question, even though it is the same code, the values of the rows and columns are different to show you understand the concept\n",
    "\n",
    "Consider the Following Method:"
   ]
  },
  {
   "cell_type": "code",
   "execution_count": null,
   "metadata": {},
   "outputs": [],
   "source": [
    "public static int[] operation(int[][] matrix, int r, int c)\n",
    "{\n",
    "    int[] result = new int[matrix.length];\n",
    "    for (int j = 0; j < matrix.length; j++)\n",
    "    {\n",
    "        result[j] = matrix[r][j] * matrix[j][c];\n",
    "    }\n",
    "    return result;\n",
    "}"
   ]
  },
  {
   "cell_type": "markdown",
   "metadata": {},
   "source": [
    "The following code segment appears in another method in the same class:"
   ]
  },
  {
   "cell_type": "code",
   "execution_count": null,
   "metadata": {},
   "outputs": [],
   "source": [
    "int[][] mat = {(2, 3, 4, 1),\n",
    "    (4, 3, 2, 1),\n",
    "    (1, 4, 3, 2),\n",
    "    (2, 2, 2, 2)};"
   ]
  },
  {
   "cell_type": "markdown",
   "metadata": {},
   "source": [
    "# Question 18\n",
    "\n",
    "<img src=\"{{ site.baseurl }}/images/q2.png\" alt=\"mainscore\">\n",
    "\n",
    "I was surprised I got this question wrong, but again it was because I was rushing. The first operation that is executed is 404/10. This returns 40 NOT 40.4 since they are both integers going through integer division. Then the value of 40 will be multiplied by 10, resulting in 400. 400 + 1 = 401 which is printed as the final answer.\n",
    "\n",
    "There were just a lot of things at play that were tricky about this especially that the 404/10 != 40.4. Multiplication and division have the same priority so the order of operations was not much of a struggle for me.\n",
    "\n",
    "Numerical Data Types: In Java, numerical data types represent numbers. The two main categories are integers and floating-point numbers.\n",
    "\n",
    "Integers: Whole numbers without decimal points. Examples include int and long.\n",
    "\n",
    "Floating-point: Numbers with decimal points. Examples include float and double.\n",
    "\n",
    "Mathematical Operations: Java supports a variety of mathematical operations that you can perform on numerical data types.\n",
    "\n",
    "Addition (+): Combines two numbers."
   ]
  },
  {
   "cell_type": "code",
   "execution_count": null,
   "metadata": {},
   "outputs": [],
   "source": [
    "int result = 5 + 3; // Result will be 8"
   ]
  },
  {
   "cell_type": "markdown",
   "metadata": {},
   "source": [
    "Subtraction (-): Finds the difference between two numbers.\n"
   ]
  },
  {
   "cell_type": "code",
   "execution_count": null,
   "metadata": {},
   "outputs": [],
   "source": [
    "int result = 7 - 4; // Result will be 3"
   ]
  },
  {
   "cell_type": "markdown",
   "metadata": {},
   "source": [
    "Multiplication ():* Multiplies two numbers."
   ]
  },
  {
   "cell_type": "code",
   "execution_count": null,
   "metadata": {},
   "outputs": [],
   "source": [
    "int result = 6 * 2; // Result will be 12"
   ]
  },
  {
   "cell_type": "markdown",
   "metadata": {},
   "source": [
    "Division (/): Divides one number by another."
   ]
  },
  {
   "cell_type": "code",
   "execution_count": null,
   "metadata": {},
   "outputs": [],
   "source": [
    "double result = 10.0 / 3.0; // Result will be 3.3333..."
   ]
  },
  {
   "cell_type": "markdown",
   "metadata": {},
   "source": [
    "Modulus (%): Returns the remainder after division."
   ]
  },
  {
   "cell_type": "code",
   "execution_count": null,
   "metadata": {},
   "outputs": [],
   "source": [
    "int result = 15 % 4; // Result will be 3"
   ]
  },
  {
   "cell_type": "markdown",
   "metadata": {},
   "source": [
    "Summary:\n",
    "\n",
    "Integers (int):\n",
    "\n",
    "Experience truncation during division (decimal part discarded).\n",
    "May result in rounding down or loss of precision.\n",
    "Final result is exact within the range of integers.\n",
    "\n",
    "Doubles (double):\n",
    "\n",
    "Preserve decimal precision during division.\n",
    "    More accurate results in floating-point operations.\n",
    "    Final result may have a decimal part, providing a more precise answer.\n",
    "\n",
    "Key Takeaway:\n",
    "\n",
    "Integer Operations:\n",
    "\n",
    "Rounding or truncation occurs during division.\n",
    "    Exact within the range of integers but may lead to loss of precision.\n",
    "\n",
    "Floating-Point Operations:\n",
    "\n",
    " Maintain decimal precision during operations.\n",
    "    Provide more accurate results but might introduce rounding errors.\n",
    "\n",
    "Understanding how each type of number behaves during operations is important. Integers may be exact within their range but could lose precision, while doubles preserve decimal precision, offering more accurate results despite the potential for rounding errors. Choosing the appropriate type depends on the nature of the calculations and the desired level of precision."
   ]
  },
  {
   "cell_type": "markdown",
   "metadata": {},
   "source": [
    "# Question 20\n",
    "\n",
    "<img src=\"{{ site.baseurl }}/images/q3.png\" alt=\"mainscore\">\n",
    "\n",
    "Let's Review Some Concepts!\n",
    "What is a binary search?\n",
    "\n",
    "A search algorithm that works by continuously cutting the array in half until the desired value is found\n",
    "Simple binary search example\n"
   ]
  },
  {
   "cell_type": "code",
   "execution_count": null,
   "metadata": {},
   "outputs": [],
   "source": [
    "public class BinarySearch {\n",
    "\n",
    "    public static int binarySearch(int[] arr, int target) {\n",
    "        int left = 0;\n",
    "        int right = arr.length - 1;\n",
    "\n",
    "        while (left <= right) {\n",
    "            int mid = left + (right - left) / 2;\n",
    "\n",
    "            if (arr[mid] == target) {\n",
    "                return mid;\n",
    "            }\n",
    "\n",
    "            if (arr[mid] < target) {\n",
    "                left = mid + 1;\n",
    "            }\n",
    "\n",
    "            else {\n",
    "                right = mid - 1;\n",
    "            }\n",
    "        }\n",
    "\n",
    "        return -1;\n",
    "    }\n",
    "\n",
    "    public static void main(String[] args) {\n",
    "        int[] arr = {4, 8, 10, 11, 15, 32, 38, 42, 56, 100};\n",
    "        int target = 15;\n",
    "\n",
    "        int result = binarySearch(arr, target);\n",
    "\n",
    "        if (result == -1) {\n",
    "            System.out.println(\"Element not present in the array\");\n",
    "        } else {\n",
    "            System.out.println(\"Element found at index \" + result);\n",
    "        }\n",
    "    }\n",
    "}\n",
    "\n",
    "BinarySearch.main(null)"
   ]
  },
  {
   "cell_type": "markdown",
   "metadata": {},
   "source": [
    "Popcorn hack!\n",
    "Add comments to the algorithm above explaining the process\n",
    "\n",
    "Answering the Question\n",
    "As we know binary seach reduces the search space by half each time it's ran. Since there are 2,000 elements in the array, that means we can figure out the answer to this question by figuring out how many times the algorithm runs in order to isolate the selected value. We can use the expression 2^x to find the value that is the closest to 2000 without going under.\n",
    "\n",
    "A. 2^2000 = basically infinity B. 2^1000 = 1.071509e+301 C. 2^20 = 1048576 D. 2^11 = 2048 E. 2^1 = 2\n",
    "\n",
    "Since 2048 is the closest number to 2000, that means the D, or 11 is our answer.\n",
    "\n",
    "Hacks\n",
    "Problem Statement: You are given a sorted array of integers. Write a Java program to implement a binary search algorithm to find the index of a given element in the array. If the element is present, return its index; otherwise, return -1.\n",
    "\n",
    "Use this code:"
   ]
  },
  {
   "cell_type": "code",
   "execution_count": null,
   "metadata": {},
   "outputs": [],
   "source": [
    "public class BinarySearchPractice {\n",
    "    public static int binarySearch(int[] array, int target) {\n",
    "        // Your implementation here\n",
    "    }\n",
    "\n",
    "    public static void main(String[] args) {\n",
    "        int[] sortedArray = {1, 3, 5, 7, 9, 11, 13, 15, 17, 19};\n",
    "        int targetElement = 11;\n",
    "\n",
    "        int result = binarySearch(sortedArray, targetElement);\n",
    "\n",
    "        if (result != -1) {\n",
    "            System.out.println(\"Element \" + targetElement + \" found at index \" + result);\n",
    "        } else {\n",
    "            System.out.println(\"Element \" + targetElement + \" not found in the array\");\n",
    "        }\n",
    "    }\n",
    "}"
   ]
  },
  {
   "cell_type": "markdown",
   "metadata": {},
   "source": [
    "# Question 24 (Shaurya)\n",
    "\n",
    "<img src=\"{{ site.baseurl }}/images/q4.png\" alt=\"mainscore\">\n",
    "\n",
    "Example:"
   ]
  },
  {
   "cell_type": "code",
   "execution_count": null,
   "metadata": {},
   "outputs": [],
   "source": [
    "public class EmployeeDatabase {\n",
    "\n",
    "    // Method signature: addEmployee(String, double)\n",
    "    public void addEmployee(String name, double salary) {\n",
    "        // Implementation to add an employee with name and salary\n",
    "        System.out.println(\"Added employee: \" + name + \" with salary: $\" + salary);\n",
    "    }\n",
    "\n",
    "    // Method signature: addEmployee(String, int)\n",
    "    public void addEmployee(String name, int employeeId) {\n",
    "        // Implementation to add an employee with name and employee ID\n",
    "        System.out.println(\"Added employee: \" + name + \" with ID: \" + employeeId);\n",
    "    }\n",
    "\n",
    "    // Method signature: addEmployee(String, double, String)\n",
    "    public void addEmployee(String name, double salary, String department) {\n",
    "        // Implementation to add an employee with name, salary, and department\n",
    "        System.out.println(\"Added employee: \" + name + \" with salary: $\" + salary + \" in \" + department + \" department\");\n",
    "    }\n",
    "\n",
    "    public static void main(String[] args) {\n",
    "        EmployeeDatabase database = new EmployeeDatabase();\n",
    "\n",
    "        // Adding employees using different method signatures\n",
    "        database.addEmployee(\"Alice\", 60000);  // Uses addEmployee(String, int)\n",
    "        database.addEmployee(\"Bob\", 75000.50); // Uses addEmployee(String, double)\n",
    "        database.addEmployee(\"Charlie\", 90000, \"Engineering\"); // Uses addEmployee(String, double, String)\n",
    "    }\n",
    "}\n",
    "EmployeeDatabase.main(null)\n"
   ]
  },
  {
   "cell_type": "markdown",
   "metadata": {},
   "source": [
    "In this example:\n",
    "\n",
    "We have a class EmployeeDatabase with three addEmployee methods, each having a different method signature.\n",
    "\n",
    "The first method takes a String name and a double salary.\n",
    "\n",
    "The second method takes a String name and an int employeeId.\n",
    "\n",
    "The third method takes a String name, a double salary, and a String department.\n",
    "\n",
    "By having different method signatures, we can effectively overload the addEmployee method, allowing it to handle various scenarios with different parameter types and orders. The main method demonstrates how we can use each version of the addEmployee method based on the specific information available when adding employees to the database."
   ]
  },
  {
   "cell_type": "markdown",
   "metadata": {},
   "source": [
    "# Question 26\n",
    "\n",
    "<img src=\"{{ site.baseurl }}/images/q5.png\" alt=\"mainscore\">\n",
    "\n",
    "What is it requiring?\n",
    "\n",
    "Pretty straight forward, asking what will print out as a result of calling the method start(). However, why is this question easy to mess up?\n",
    "\n",
    "Most common mistake: You MUST be careful when see which string is brought in."
   ]
  },
  {
   "cell_type": "code",
   "execution_count": null,
   "metadata": {},
   "outputs": [],
   "source": [
    "public class CBq26 {\n",
    "    public static void changeIt(int[] arr, int val, String word) {\n",
    "        arr = new int[5];\n",
    "        val = 0;\n",
    "        word = word.substring(0, 5);\n",
    "\n",
    "        for (int k = 0; k < arr.length; k++) {\n",
    "            arr[k] = 0;\n",
    "        }\n",
    "    }\n",
    "\n",
    "    public static void start() {\n",
    "        int[] nums = {1, 2, 3, 4, 5};\n",
    "        int value = 6;\n",
    "        String name = \"blackboard\";\n",
    "\n",
    "        changeIt(nums, value, name); \n",
    "\n",
    "        for (int k = 0; k < nums.length; k++) {\n",
    "            System.out.print(nums[k] + \" \");\n",
    "        }\n",
    "        \n",
    "        System.out.print(value + \" \");\n",
    "        System.out.print(name);\n",
    "    }\n",
    "\n",
    "    public static void main(String[] args) {\n",
    "        start();\n",
    "    }\n",
    "}\n",
    "\n",
    "CBq26.main(null);\n"
   ]
  },
  {
   "cell_type": "markdown",
   "metadata": {},
   "source": [
    "### Popcorn Hack:"
   ]
  },
  {
   "cell_type": "code",
   "execution_count": null,
   "metadata": {},
   "outputs": [],
   "source": [
    "public class CBq26 {\n",
    "    public static void changeIt(int[] arr, int val, String word) {\n",
    "        arr = new int[5];\n",
    "        val = 0;\n",
    "        word = word.substring(0, 5);\n",
    "        System.out.println(\"Word changed locally: \" + word);\n",
    "\n",
    "        for (int k = 0; k < arr.length; k++) {\n",
    "            arr[k] = 0;\n",
    "        }\n",
    "    }\n",
    "\n",
    "    public static void start() {\n",
    "        int[] nums = {1, 2, 3, 4, 5};\n",
    "        int value = 6;\n",
    "        String name = \"blackboard\";\n",
    "        String word = \"blackboard\"; \n",
    "\n",
    "        changeIt(nums, value, name);\n",
    "\n",
    "        for (int k = 0; k < nums.length; k++) {\n",
    "            System.out.print(nums[k] + \" \");\n",
    "        }\n",
    "        \n",
    "        System.out.print(value + \" \");\n",
    "        System.out.print(name);\n",
    "    }\n",
    "\n",
    "    public static void main(String[] args) {\n",
    "        start();\n",
    "    }\n",
    "}\n",
    "\n",
    "CBq26.main(null);\n"
   ]
  },
  {
   "cell_type": "markdown",
   "metadata": {},
   "source": [
    "# Question 31 (Orlando)\n",
    "\n",
    "<img src=\"{{ site.baseurl }}/images/q6.png\" alt=\"mainscore\">\n",
    "\n",
    "\n",
    "Topic:\n",
    "\n",
    "This question is a test of your knowledge of traversing 2D arrays.\n",
    "\n",
    "Traversing a 2D array involves visiting each element of the array in a systematic way, usually using nested loops to iterate over both rows and columns. The process ensures that you access and perform operations on every element within the 2D array.\n",
    "\n",
    "In this example, The first set of nested for loops sets each element in board to “O”. The next for loop starts val at 0 and increments by 1 until val is 4, when val is 5 the loop terminates. When val is even, board is not updated, so nothing happens when val is 0.\n",
    "    \n",
    "When val is 1, row is assigned 1 and col is assigned 0. The boolean condition in the while loop is true, so board[1][0] is assigned “X”. Then col is incremented to 1 and row is decremented to 0 and board[0][1] is assigned “X”. Then col is incremented to 2 and row is decremented to -1 and the while loop terminates. When val is 2, nothing changes about board. When val is 3, row is assigned 3 and col is assigned 0.\n",
    "    \n",
    "The boolean condition in the while loop is true, so board[3][0] is assigned “X”. Then col is incremented to 1 and row is decremented to 2 and board[2][1] is assigned “X”. Then col is incremented to 2 and row is decremented to 1 and board[1][2] is assigned “X”. Then col is incremented to 3 and row is decremented to 0 and board[0][3] is assigned “X”. Finally, col is incremented to 4 and row is decremented to -1 and the while loop terminates. When val is 4, nothing changes about board.\n",
    "\n",
    "Answer\n",
    "\n",
    "Option E is correct because it accurately reflects the end product of the board after the code is executed. The code fills the board with “O” initially, and then for each value of val from 0 to 4, it sets diagonal elements starting from the top right corner to “X” for even values of val. When val is odd, no changes are made to the board since the while loop condition fails immediately due to the decrement of col and row before the loop\n",
    "\n",
    "\n",
    "### Popcorn Hack\n",
    "\n",
    "Here is a similar example to the code with an intentional mistake for you to solve String[][] board = new String[5][5]; for (int row = 0; row < 5; row++) { for (int col = 0; col < 5; col++) { board[row][col] = “O”; } } for (int val = 0; val < 5; val++) { int row = val; int col = 4; while (col >= 0 && row >= 0) { if (val % 2 == 0) { board[row][col] = “X”; } else { // Intentional mistake: This should be ‘board[row][col] = “O”;’ // Students need to identify and fix this line. board[row][col] = “X”; // Incorrect assignment } col–; row–; } } The mistake is in the else block where it incorrectly assigns “X” instead of “O”. Students should correct this to: board[row][col]=”0”; in order to fix the code. The corrected code will alternate between “X” and “O” on the diagonals for each value of val\n",
    "\n"
   ]
  },
  {
   "cell_type": "markdown",
   "metadata": {},
   "source": [
    "# Question 33 \n",
    "\n",
    "<img src=\"{{ site.baseurl }}/images/q7.png\" alt=\"mainscore\">\n",
    "<br>\n",
    "<img src=\"{{ site.baseurl }}/images/q33s.png\" alt=\"mainscore\">\n",
    "\n",
    "### Popcorn Hacks\n",
    "\n",
    "Look at each of the 3 methods below. Which ones will successfully calculate the max value? Why do the other methods not work?"
   ]
  },
  {
   "cell_type": "code",
   "execution_count": null,
   "metadata": {},
   "outputs": [],
   "source": [
    "public class Q33Hacks {\n",
    "    public int methodI(int[] arr) {\n",
    "        int max = Integer.MAX_VALUE;\n",
    "        for (int value:arr) {\n",
    "            if (max<value) {\n",
    "                max = value;\n",
    "            }\n",
    "        }\n",
    "        return max;\n",
    "    }\n",
    "\n",
    "    public int methodII(int[] arr) {\n",
    "        int max = 0;\n",
    "        for (int value: arr) {\n",
    "            if (max < value) {\n",
    "                max = value;\n",
    "            }\n",
    "        }\n",
    "        return max;\n",
    "    }\n",
    "\n",
    "    public int methodIII(int[] arr) {\n",
    "        int max = arr[0];\n",
    "        for (int k = 1; k>arr.length; k++) {\n",
    "            if (max<arr[k]) {\n",
    "                max = arr[k];\n",
    "            }\n",
    "        }\n",
    "        return max;\n",
    "    }\n",
    "}\n",
    "\n"
   ]
  },
  {
   "cell_type": "markdown",
   "metadata": {},
   "source": [
    "# Question 35\n",
    "\n",
    "<img src=\"{{ site.baseurl }}/images/q8.png\" alt=\"mainscore\">\n",
    "\n",
    "### Here’s a breakdown of the process:\n",
    "\n",
    "Initially, the search range is set with start = 0 and end = 7 (length of the array - 1).\n",
    "    \n",
    "In the first iteration, the midpoint mid is calculated as (0 + 7) / 2 = 3. Since the target (8) is greater than data[3] (4), the search continues in the right half of the array, and start is updated to 4.\n",
    "    \n",
    "In the second iteration, the midpoint is calculated as (4 + 7) / 2 = 5. Here, the target (8) is equal to data[5], so the method returns 5 as the index where the target is found.\n",
    "\n",
    "As a result, the value returned by the call binarySearch(values, target) is 5. This indicates that the target value 8 is found at index 5 in the given array values.\n",
    "\n",
    "### Here’s an example to try:\n",
    "\n",
    "Fill in the blanks in the following Java code to declare an array of characters and choose a target character for a binary search. Once the blanks are filled, run the code to perform the binary search and determine whether the target character is present in the array. If found, print the index; otherwise, print a message indicating that the target character was not found."
   ]
  },
  {
   "cell_type": "code",
   "execution_count": null,
   "metadata": {},
   "outputs": [],
   "source": [
    "public class CharBinarySearchExample {\n",
    "\n",
    "    public static int charBinarySearch(char[] data, char target) {\n",
    "        int start = 0;\n",
    "        int end = data.length - 1;\n",
    "\n",
    "        while (start <= end) {\n",
    "            int mid = (start + end) / 2;\n",
    "\n",
    "            if (target < data[mid]) {\n",
    "                end = mid - 1;\n",
    "            } else if (target > data[mid]) {\n",
    "                start = mid + 1;\n",
    "            } else {\n",
    "                return mid;\n",
    "            }\n",
    "        }\n",
    "\n",
    "        return -1;\n",
    "    }\n",
    "\n",
    "    public static void main(String[] args) {\n",
    "        // Fill in the blank: Declare an array of characters (similar to the previous example)\n",
    "        char[] characters = ____;\n",
    "\n",
    "        // Fill in the blank: Choose a target character to search for in the array\n",
    "        char targetChar = ____;\n",
    "\n",
    "        int result = charBinarySearch(characters, targetChar);\n",
    "\n",
    "        if (result != -1) {\n",
    "            System.out.println(\"Target character '\" + targetChar + \"' found at index \" + result);\n",
    "        } else {\n",
    "            System.out.println(\"Target character '\" + targetChar + \"' not found in the array.\");\n",
    "        }\n",
    "    }\n",
    "}\n"
   ]
  },
  {
   "cell_type": "markdown",
   "metadata": {},
   "source": [
    "Your task is to fill in the blanks with appropriate values for the array of characters (characters) and the target character (targetChar). After filling in the blanks, you can run the code to see the results of the binary search."
   ]
  },
  {
   "cell_type": "markdown",
   "metadata": {},
   "source": [
    "# Question 39\n",
    "\n",
    "<img src=\"{{ site.baseurl }}/images/q9.png\" alt=\"mainscore\">\n",
    "\n",
    "Question 39 (5-Minute Lesson):\n",
    "Problem:\n",
    "\n",
    "Consider the following code segment:\n"
   ]
  },
  {
   "cell_type": "code",
   "execution_count": null,
   "metadata": {},
   "outputs": [],
   "source": [
    "List<String> students = new ArrayList<String>();\n",
    "\n",
    "students.add(\"Alex\");\n",
    "students.add(\"Bob\");\n",
    "students.add(\"Carl\");\n",
    "\n",
    "for (int k = 0; k < students.size(); k++) {\n",
    "    System.out.println(students.set(k, \"Alex\") + \" \");\n",
    "}\n",
    "\n",
    "System.out.println();\n",
    "\n",
    "for (String str : students) {\n",
    "    System.out.print(str + \" \");\n",
    "}\n"
   ]
  },
  {
   "cell_type": "markdown",
   "metadata": {},
   "source": [
    "I got this one correct. It is a matter of ArrayLists, understanding their methods, and visualizing how loops work. At this point in the test, I was able to do so pretty well. Let’s now go over each of the wrong choices and explain why they were wrong:\n",
    "\n",
    "A: This would be the case if the set method returned the value that was stored in the element after it was assigned “Alex” instead of returning the value being replaced “Alex”.\n",
    "\n",
    "B: In this case the lines of output are reversed.\n",
    "\n",
    "D: This would the result if the first for loop used the get method instead of the set method.\n",
    "\n",
    "E: The set method can be used in the System.out.print() method, because it returns the value that was at this index before it was updated to “Alex”.\n",
    "\n",
    "Finally, choice C was correct. This is because the first for loop uses the set method to change the value of each element in students to “Alex”. When the set method is called, it returns the value that was originally at this index. So, the first loop will print Alex Bob Carl. At this point all elements have been set to “Alex”. The second for loop uses an enhanced for loop to access every element and will print Alex Alex Alex.\n",
    "\n",
    "If you got this wrong, I would suggest going back to ArrayList methods and how to traverse an ArrayList through different methods and algorithms. Since this was the student lesson I taught, I didn’t struggle with these questions, and I also know how to help those who might be struggling.\n",
    "\n",
    "### Popcorn Hack:\n",
    "\n",
    "Master ArrayList manipulation and loop comprehension by dissecting the code snippet, understanding the nuances of the set method, and creating a similar exercise that involves updating ArrayList elements for a comprehensive grasp of core concepts."
   ]
  }
 ],
 "metadata": {
  "kernelspec": {
   "display_name": "Java",
   "language": "java",
   "name": "java"
  },
  "language_info": {
   "name": "java"
  }
 },
 "nbformat": 4,
 "nbformat_minor": 2
}
