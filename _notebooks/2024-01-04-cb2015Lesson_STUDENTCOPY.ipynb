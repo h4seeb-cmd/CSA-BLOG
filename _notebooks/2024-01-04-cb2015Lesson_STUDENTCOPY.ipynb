{
 "cells": [
  {
   "cell_type": "markdown",
   "metadata": {},
   "source": [
    "---\n",
    "toc: true\n",
    "comments: true\n",
    "layout: notebook\n",
    "title: Lesson on 2015 MCQ Q39, List with Alex, Bob, and Carl (List Element Manipulation) STUDENT COPY\n",
    "description: A brief lesson on list manipulation that ties into the commonly missed Question 39 on the 2015 MCQ\n",
    "type: hacks\n",
    "courses: { compsci: {week: 18} }\n",
    "authors: Mirza Beg\n",
    "---"
   ]
  },
  {
   "cell_type": "markdown",
   "metadata": {},
   "source": [
    "# What are Lists in Java?\n",
    "I won't be going super in depth here for the sake of time, but \"Lists\" in Java refers to the List interface, which many different strucutres in Java employ.\n",
    "\n",
    "Known examples are:\n",
    "- Linked Lists \n",
    "- Vectors\n",
    "- ArrayLists (What we will be using in this lesson)\n",
    "\n",
    "I won't be going over linked lists and vectors in this lesson, but you can find very good and comprehensive explanations for each of them here:\n",
    "- [Linked List Article](https://www.geeksforgeeks.org/data-structures/linked-list/)\n",
    "- [Vectors Article](https://www.geeksforgeeks.org/java-util-vector-class-java/)\n",
    "\n",
    "There are many more examples of things that use the List interface in Java..."
   ]
  },
  {
   "cell_type": "markdown",
   "metadata": {},
   "source": [
    "# How can one manipulate lists/arrayLists?\n",
    "\n",
    "To start, it's important to define what we can manipulate in these arraylists/lists. I'll be skipping over creating lists, as that should be pretty basic knowledge by now and if you maybe forgot how to create a list, you can check out this [article](https://www.geeksforgeeks.org/arraylist-in-java/) for more info.\n",
    "\n",
    "Using java, we can easily manipulate lists by:\n",
    "- Adding elements\n",
    "- Updating elements\n",
    "- Removing elements\n",
    "- Sorting elements\n",
    "- Reversing elements\n",
    "- Checking the size of all elements\n",
    "- Clearing elements\n",
    "- Converting the list into an array\n",
    "\n",
    "\n",
    "There are many more ways to manipulate lists as well, but for the sake of brevity/time, we will only be going over adding, updating, removing, sorting, and finding the size of lists.\n",
    "\n"
   ]
  },
  {
   "cell_type": "markdown",
   "metadata": {},
   "source": [
    "## Adding elements to a list\n",
    "\n",
    "In order to add an element to a list in Java, you need to do:\n",
    "- list_name.add(whatever you wanted to add)\n",
    "\n",
    "To add an element to a specific index, you need to do:\n",
    "- list_name.add(index, whatever you wanted to add)\n",
    "\n",
    "Remember, if you want to add a string, denote so with quotation marks. If you want to add an integer or double, ditch the quotation marks. \n",
    "\n",
    "**You try!**\n",
    "In the below code cell, add something to this array list!"
   ]
  },
  {
   "cell_type": "code",
   "execution_count": 6,
   "metadata": {
    "vscode": {
     "languageId": "java"
    }
   },
   "outputs": [],
   "source": [
    "List<Integer> myList=new ArrayList<Integer>();\n",
    "\n",
    "// Add your code!"
   ]
  },
  {
   "cell_type": "markdown",
   "metadata": {},
   "source": [
    "## Removing elements in a list\n",
    "\n",
    "In order to remove an element to a list in Java, you need to do:\n",
    "- list_name.remove(element you wish to remove)\n",
    "\n",
    "In order to remomve an element at a specific index, you need to do:\n",
    "- list_name.remove(index)"
   ]
  },
  {
   "cell_type": "markdown",
   "metadata": {},
   "source": [
    "## Updating elements in a list\n",
    "\n",
    "Now say you want to update a value in a list, for that, you would need to do:\n",
    "- list_name.set(index, what you want to change the element to)\n",
    "\n",
    "**You try!**\n",
    "In the below code cell, update the value at index 4 to return 5.\n"
   ]
  },
  {
   "cell_type": "code",
   "execution_count": 7,
   "metadata": {
    "vscode": {
     "languageId": "java"
    }
   },
   "outputs": [],
   "source": [
    "List<Integer> list = Arrays.asList(1,2,3,4,11,6,7); // Here, I'm creating an ArrayList by defining an immutable list using Arrays.asList()\n",
    "List<Integer> myList = new ArrayList<>(list); // And I'm making it a mutable ArrayList by creating an ArrayList based on the values from the immutable list. \n",
    "//This method is used later in the hacks section too.\n",
    "\n",
    "\n",
    "                                            "
   ]
  },
  {
   "cell_type": "markdown",
   "metadata": {},
   "source": [
    "## Sorting elements in a list\n",
    "\n",
    "Now say you have a list of values that are a jumbled up mess, and you would like to view the data ordered. Good news, it's super easy to do that when working with the Java list interface, due to the Java Collections framework. Just do:\n",
    "- Collections.sort(list_name)\n",
    "\n",
    "Using Collections.sort, you can also sort in descending order like so:\n",
    "- Collections.sort(list_name, Collections.reverseOrder())\n",
    "\n",
    "**Alternatively**, you can also use list_name.sort() to achieve the same thing past Java 8, as that's when .sort() became a default method in the Java List interface.\n"
   ]
  },
  {
   "cell_type": "markdown",
   "metadata": {},
   "source": [
    "## Finding the size of a list\n",
    "\n",
    "If you would want to find the size of a list, you can use:\n",
    "- list_name.size()\n",
    "\n",
    "And to display the size, just set this equal to an integer variable, as so:\n",
    "- int size = list_name.size()"
   ]
  },
  {
   "cell_type": "markdown",
   "metadata": {},
   "source": [
    "# MCQ Problem Breakdown:\n",
    "Now that you've learned the basics of list manipulation, it's time to tie this into the 2015 CollegeBoard MCQ we took. Today, we will be going over question 39. which is the following:\n",
    "![image.png](https://github.com/h4seeb-cmd/CSA-BLOG/blob/main/images/q39.png?raw=true)\n",
    "\n",
    "Lets start by trying to solve this individually first without the Multiple Choice. It's ok if you get this wrong, I won't be grading this part on whether it's correct or not, just give it an honest effort. Write your answer in the markdown cell below and write your inital thought process. Think of this as a **Popcorn Hack**. You have *2 minutes*."
   ]
  },
  {
   "cell_type": "markdown",
   "metadata": {},
   "source": []
  },
  {
   "cell_type": "markdown",
   "metadata": {},
   "source": [
    "Ok, now that you've all done that, let's break down the problem. So first an _______ is being created, with the strings Alex, Bob, and Carl being added. \n",
    "\n",
    "Next, there is a for loop, which iterates by an interval of 1 until it goes through the entire list, the size being determined by _________. \n",
    "\n",
    "It changes the value of all the elements to \"Alex\" using ______, while printing what was originally there. This returns _______.\n",
    "\n",
    "The second for loop simply iterates through all of the \"students\" ArrayList via an enhanced for loop, and prints out the now updated values in the for loop. This returns _______.\n",
    "\n",
    "This problem may seem a bit tricky at first, but when you slow down and break the code down like how I've shown, it's pretty simple."
   ]
  },
  {
   "cell_type": "markdown",
   "metadata": {},
   "source": [
    "# Hacks\n",
    "\n",
    "Show your understanding of the lesson by:\n",
    "- Adding the element \"5\" at index 4\n",
    "- Removing the elements \"2\" and \"7\" at indices 1 and 8 respectively\n",
    "- Updating the element at index 9 to be \"23\" rather than \"10\"\n",
    "- Sorting the final list in DESCENDING order\n",
    "- Comparing the size of the list from the start to the end\n",
    "\n",
    "***CHALLENGE: If you can create a sublist of the final list from indices 0-5, you get +0.06 to your grade. If you can make it so the user inputs what indices they want the sublist made out of, you get an extra 0.04 to your final grade on top of the +0.06!***\n"
   ]
  },
  {
   "cell_type": "code",
   "execution_count": 8,
   "metadata": {
    "vscode": {
     "languageId": "java"
    }
   },
   "outputs": [],
   "source": [
    "public class ListHacks {\n",
    "    // Feel free to change the methods and such around to fit your desired organization\n",
    "    public static void main(){\n",
    "        List<Integer> list = Arrays.asList(1,2,3,4,5,6,7,8,9,10)\n",
    "        List<Integer> myList = new ArrayList<>(list);\n",
    "    }\n",
    "\n",
    "}"
   ]
  }
 ],
 "metadata": {
  "kernelspec": {
   "display_name": "Java",
   "language": "java",
   "name": "java"
  },
  "language_info": {
   "codemirror_mode": "java",
   "file_extension": ".jshell",
   "mimetype": "text/x-java-source",
   "name": "Java",
   "pygments_lexer": "java",
   "version": "17.0.8.1+1-Ubuntu-0ubuntu120.04"
  }
 },
 "nbformat": 4,
 "nbformat_minor": 2
}
