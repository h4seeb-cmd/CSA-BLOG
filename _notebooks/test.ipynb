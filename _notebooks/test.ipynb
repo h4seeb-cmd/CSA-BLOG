{
 "cells": [
  {
   "cell_type": "code",
   "execution_count": 14,
   "metadata": {},
   "outputs": [
    {
     "name": "stdout",
     "output_type": "stream",
     "text": [
      "HASEE\n"
     ]
    }
   ],
   "source": [
    "public class SubTest {\n",
    "    public static void main(String str){\n",
    "        String sub = str.substring(0, str.length() - 3);\n",
    "        System.out.println(sub);\n",
    "    }\n",
    "}\n",
    "SubTest.main(\"HASEEB\");"
   ]
  },
  {
   "cell_type": "code",
   "execution_count": 26,
   "metadata": {},
   "outputs": [
    {
     "ename": "CompilationException",
     "evalue": "",
     "output_type": "error",
     "traceback": [
      "\u001b[1m\u001b[30m|   \u001b[1m\u001b[30m    public static int getIndex(int arr[])\u001b[0m\u001b[1m\u001b[30m\u001b[41m{\u001b[0m",
      "\u001b[1m\u001b[30m|   \u001b[1m\u001b[30m\u001b[41m        System.out.println(arr[-1]);\u001b[0m",
      "\u001b[1m\u001b[30m|   \u001b[1m\u001b[30m\u001b[41m    }\u001b[0m",
      "\u001b[1m\u001b[31mmissing return statement\u001b[0m",
      ""
     ]
    }
   ],
   "source": [
    "public class indexTest{\n",
    "    public static void getIndex(int arr[]){\n",
    "        System.out.println(arr[-1]);\n",
    "    }\n",
    "    public static void main(){\n",
    "        int test[];\n",
    "        test = new int[5];\n",
    "        getIndex(test);\n",
    "    }\n",
    "}\n",
    "indexTest.main(null);"
   ]
  },
  {
   "cell_type": "code",
   "execution_count": 50,
   "metadata": {},
   "outputs": [
    {
     "name": "stdout",
     "output_type": "stream",
     "text": [
      "5\n"
     ]
    }
   ],
   "source": [
    "int test[];\n",
    "test = new int[6];\n",
    "for(int i = 0; i < test.length; i++){\n",
    "    int k = i;\n",
    "    test[k] = k;\n",
    "}\n",
    "int x = test[5];\n",
    "System.out.println(x);"
   ]
  }
 ],
 "metadata": {
  "kernelspec": {
   "display_name": "Java",
   "language": "java",
   "name": "java"
  },
  "language_info": {
   "codemirror_mode": "java",
   "file_extension": ".jshell",
   "mimetype": "text/x-java-source",
   "name": "java",
   "pygments_lexer": "java",
   "version": "17.0.8.1+1-Ubuntu-0ubuntu120.04"
  }
 },
 "nbformat": 4,
 "nbformat_minor": 2
}
