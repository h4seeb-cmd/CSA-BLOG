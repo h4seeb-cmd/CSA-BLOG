{
 "cells": [
  {
   "cell_type": "code",
   "execution_count": 16,
   "metadata": {
    "vscode": {
     "languageId": "java"
    }
   },
   "outputs": [
    {
     "name": "stdout",
     "output_type": "stream",
     "text": [
      "16\n"
     ]
    }
   ],
   "source": [
    "public static int arraySum(int[] arr){\n",
    "    int a = 0;\n",
    "    for(int number : arr){\n",
    "        a += number;\n",
    "    }\n",
    "    return a;\n",
    "}\n",
    "int[] numbers = {1,3,2,7,3};   \n",
    "int sum = arraySum(numbers);  \n",
    "System.out.println(sum);"
   ]
  },
  {
   "cell_type": "code",
   "execution_count": 40,
   "metadata": {
    "vscode": {
     "languageId": "java"
    }
   },
   "outputs": [
    {
     "name": "stdout",
     "output_type": "stream",
     "text": [
      "[16, 32, 28, 20]\n"
     ]
    }
   ],
   "source": [
    "public static int [] rowSums(int[][] arr2D){\n",
    "    int[] rowSum = new int[arr2D.length];\n",
    "    int i = 0;\n",
    "    for(int[] arr:arr2D){\n",
    "        rowSum[i] = arraySum(arr);\n",
    "        i++;\n",
    "    }\n",
    "    return rowSum;\n",
    "}\n",
    "int [][] arrayThing = {\n",
    "    {1,3,2,7,3},{10,10,4,6,2},{5,3,5,9,6},{7,6,4,2,1}\n",
    "    };\n",
    "System.out.println(Arrays.toString(rowSums(arrayThing)));"
   ]
  },
  {
   "cell_type": "code",
   "execution_count": 41,
   "metadata": {
    "vscode": {
     "languageId": "java"
    }
   },
   "outputs": [
    {
     "name": "stdout",
     "output_type": "stream",
     "text": [
      "true\n"
     ]
    }
   ],
   "source": [
    "public static boolean isDiverse(int[][] arr2D){\n",
    "    int[] sumRows = rowSums(arrayThing);\n",
    "    for(int i = 0; i < sumRows.length; i++){\n",
    "        for(int j = i+1; j < sumRows.length; j++){\n",
    "            if (sumRows[i] == sumRows[j]){\n",
    "                return false;\n",
    "            }\n",
    "        }\n",
    "    }\n",
    "    return true;\n",
    "}\n",
    "System.out.println(isDiverse(arrayThing));"
   ]
  },
  {
   "cell_type": "code",
   "execution_count": 52,
   "metadata": {
    "vscode": {
     "languageId": "java"
    }
   },
   "outputs": [
    {
     "name": "stdout",
     "output_type": "stream",
     "text": [
      "+A+++\n",
      "H****\n",
      "H*++*\n",
      "HAR*S\n",
      "HARPS\n"
     ]
    }
   ],
   "source": [
    "public class hiddenWord{\n",
    "    String secretWord;\n",
    "    public hiddenWord(String secretWord){\n",
    "        this.secretWord = secretWord;\n",
    "    }\n",
    "    public String getHint(String guess){\n",
    "        // test for uppercase only\n",
    "        String secretWord = this.secretWord;\n",
    "        int wordLength = secretWord.length();\n",
    "        String hint = \"\";\n",
    "        for(int i = 0; i < wordLength; i++){\n",
    "            if(guess.charAt(i) == secretWord.charAt(i)){\n",
    "                hint += secretWord.charAt(i);\n",
    "            }\n",
    "            else if(secretWord.indexOf(guess.charAt(i)) != -1){\n",
    "                hint += '+';\n",
    "            } else {\n",
    "                hint += '*';\n",
    "            }\n",
    "        }\n",
    "        return hint;\n",
    "    }\n",
    "    public static void main(String args[]){\n",
    "        hiddenWord puzzle = new hiddenWord(\"HARPS\");\n",
    "        System.out.println(puzzle.getHint(\"AAAAA\"));\n",
    "        System.out.println(puzzle.getHint(\"HELLO\"));\n",
    "        System.out.println(puzzle.getHint(\"HEART\"));\n",
    "        System.out.println(puzzle.getHint(\"HARMS\"));\n",
    "        System.out.println(puzzle.getHint(\"HARPS\"));\n",
    "    }\n",
    "}\n",
    "\n",
    "hiddenWord.main(null);"
   ]
  },
  {
   "cell_type": "code",
   "execution_count": 73,
   "metadata": {
    "vscode": {
     "languageId": "java"
    }
   },
   "outputs": [
    {
     "name": "stdout",
     "output_type": "stream",
     "text": [
      "Part A Testing (Retrieving data at a certain point):\n",
      "4\n",
      "\n",
      "Part B Testing (Removing data at a certain column):\n",
      "\n",
      "Before removal method:\n",
      "-----------------------\n",
      "1 4 4\n",
      "2 0 1\n",
      "3 1 -9\n",
      "1 1 5\n",
      "\n",
      "After removal method:\n",
      "-----------------------\n",
      "1 3 4\n",
      "2 0 1\n"
     ]
    }
   ],
   "source": [
    "// Creating Sparse Array\n",
    "public class SparseArrayEntry{\n",
    "    private int row;\n",
    "    private int col;\n",
    "    private int value; // value of entry in sparse array\n",
    "\n",
    "    public SparseArrayEntry(int r, int c, int v){\n",
    "        row = r;\n",
    "        col = c;\n",
    "        value = v;\n",
    "    }\n",
    "\n",
    "    public int getRow(){\n",
    "        return row;\n",
    "    }\n",
    "\n",
    "    public int getCol(){\n",
    "        return col;\n",
    "    }\n",
    "\n",
    "    public int getValue(){\n",
    "        return value;\n",
    "    }\n",
    "}\n",
    "\n",
    "// Representing Sparse Array\n",
    "public class SparseArray{\n",
    "    private int numRows;\n",
    "    private int numCols;\n",
    "    private List<SparseArrayEntry> entries;\n",
    "\n",
    "    public SparseArray(){\n",
    "        entries = new ArrayList<SparseArrayEntry>();\n",
    "        SparseArrayEntry entry1 = new SparseArrayEntry(1,4,4);\n",
    "        SparseArrayEntry entry2 = new SparseArrayEntry(2,0,1);\n",
    "        SparseArrayEntry entry3 = new SparseArrayEntry(3,1,-9);\n",
    "        SparseArrayEntry entry4 = new SparseArrayEntry(1,1,5);    \n",
    "        entries.add(entry1);\n",
    "        entries.add(entry2);\n",
    "        entries.add(entry3);\n",
    "        entries.add(entry4);\n",
    "\n",
    "        for(SparseArrayEntry entry : entries){\n",
    "            if(entry.getRow() > numRows){\n",
    "                numRows = entry.getRow();\n",
    "            }\n",
    "            if(entry.getCol() > numCols){\n",
    "                numCols = entry.getCol();\n",
    "            }\n",
    "        }\n",
    "    }\n",
    "\n",
    "    public int getNumRows(){\n",
    "        return numRows;\n",
    "    }\n",
    "\n",
    "    public int getNumCols(){\n",
    "        return numCols;\n",
    "    }\n",
    "\n",
    "    // PART A:\n",
    "    public int getValueAt(int row, int col){\n",
    "        for(SparseArrayEntry entry : entries){\n",
    "            if(entry.getRow() == row && entry.getCol() == col){\n",
    "                return entry.getValue();\n",
    "            } \n",
    "        } \n",
    "        return 0;\n",
    "    }\n",
    "\n",
    "    // PART B:\n",
    "    public void removeColumn(int col){\n",
    "        System.out.println(\"\\nBefore removal method:\"); \n",
    "        System.out.println(\"-----------------------\");\n",
    "        for(SparseArrayEntry entry : entries){\n",
    "            System.out.println(entry.getRow() + \" \" + entry.getCol() + \" \" + entry.getValue());\n",
    "        }\n",
    "        entries.removeIf(entry -> entry.getCol() == col); // attempted using entries.remove(), however it was not accurately removing the correct \n",
    "        int i = 0;\n",
    "        for(SparseArrayEntry entry : entries){\n",
    "            // if(entry.getCol() == col){\n",
    "            //     entries.remove(i);\n",
    "            // }\n",
    "            if(entry.getCol() > i){\n",
    "                SparseArrayEntry editedEntry = new SparseArrayEntry(entry.getRow(), entry.getCol() - 1, entry.getValue());\n",
    "                entries.set(i, editedEntry);\n",
    "            }\n",
    "            i++;\n",
    "        }\n",
    "        this.numCols -= 1;\n",
    "        System.out.println(\"\\nAfter removal method:\");\n",
    "        System.out.println(\"-----------------------\");\n",
    "        for(SparseArrayEntry entry : entries){\n",
    "            System.out.println(entry.getRow() + \" \" + entry.getCol() + \" \" + entry.getValue());\n",
    "        }\n",
    "\n",
    "        this.numCols = this.numCols;\n",
    "    }\n",
    "\n",
    "    public static void main(String[] args){\n",
    "        SparseArray spArray = new SparseArray();\n",
    "\n",
    "        System.out.println(\"Part A Testing (Retrieving data at a certain point):\");\n",
    "        System.out.println(spArray.getValueAt(1,4));\n",
    "\n",
    "        System.out.println(\"\\nPart B Testing (Removing data at a certain column):\");\n",
    "        spArray.removeColumn(1);\n",
    "    }\n",
    "}\n",
    "\n",
    "SparseArray.main(null);"
   ]
  },
  {
   "cell_type": "code",
   "execution_count": 85,
   "metadata": {
    "vscode": {
     "languageId": "java"
    }
   },
   "outputs": [
    {
     "name": "stdout",
     "output_type": "stream",
     "text": [
      "Part B Testing\n",
      "-----------------\n",
      "true\n",
      "true\n"
     ]
    },
    {
     "name": "stdout",
     "output_type": "stream",
     "text": [
      "true\n",
      "false\n",
      "false\n",
      "\n",
      "Part C Testing\n",
      "-----------------\n",
      "true\n",
      "true\n",
      "false\n",
      "false\n",
      "true\n",
      "false\n"
     ]
    }
   ],
   "source": [
    "// PART A\n",
    "public interface NumberGroup{\n",
    "    boolean contains(int val);\n",
    "}\n",
    "\n",
    "// PART B\n",
    "public class Range implements NumberGroup{\n",
    "    public int min;\n",
    "    public int max;\n",
    "\n",
    "    public Range(int min, int max){\n",
    "        this.min = min;\n",
    "        this.max = max;\n",
    "    }\n",
    "\n",
    "    @Override \n",
    "    public boolean contains(int val){\n",
    "        if(val <= this.max && val >= this.min){\n",
    "            return true;\n",
    "        }\n",
    "        return false;\n",
    "    }\n",
    "}\n",
    "public class bMain {\n",
    "    public static void main(String[] args) {\n",
    "        NumberGroup range = new Range(5, 10);\n",
    "\n",
    "        System.out.println(\"\\nPart B Testing\");\n",
    "        System.out.println(\"-----------------\");\n",
    "        System.out.println(range.contains(5));  // true\n",
    "        System.out.println(range.contains(10)); // true\n",
    "        System.out.println(range.contains(7));  // true\n",
    "        System.out.println(range.contains(4));  // false\n",
    "        System.out.println(range.contains(11)); // false\n",
    "    }\n",
    "}\n",
    "bMain.main(null);\n",
    "\n",
    "\n",
    "// PART C\n",
    "public class multipleGroups{\n",
    "    private List<NumberGroup> groupList;\n",
    "    public multipleGroups(List<NumberGroup> groupList){\n",
    "        this.groupList = groupList;\n",
    "    }\n",
    "    public boolean contains(int num){\n",
    "        for(NumberGroup group : groupList){\n",
    "            if(group.contains(num)){\n",
    "                return true;\n",
    "            }\n",
    "        }\n",
    "        return false;\n",
    "    }\n",
    "    public static void main(String[] args) {\n",
    "        Range range1 = new Range(1, 5);\n",
    "        Range range2 = new Range(10, 15);\n",
    "        Range range3 = new Range(20, 25);\n",
    "        \n",
    "        System.out.println(\"\\nPart C Testing\");\n",
    "        System.out.println(\"-----------------\");\n",
    "        System.out.println(range1.contains(3));  // true \n",
    "        System.out.println(range2.contains(10)); // true\n",
    "        System.out.println(range3.contains(19)); // false\n",
    "        System.out.println(range1.contains(18)); // false\n",
    "        System.out.println(range2.contains(11)); // true\n",
    "        System.out.println(range3.contains(1));  // false\n",
    "    }\n",
    "}\n",
    "\n",
    "multipleGroups.main(null);"
   ]
  },
  {
   "cell_type": "code",
   "execution_count": null,
   "metadata": {
    "vscode": {
     "languageId": "java"
    }
   },
   "outputs": [],
   "source": []
  }
 ],
 "metadata": {
  "kernelspec": {
   "display_name": "Java",
   "language": "java",
   "name": "java"
  },
  "language_info": {
   "codemirror_mode": "java",
   "file_extension": ".jshell",
   "mimetype": "text/x-java-source",
   "name": "Java",
   "pygments_lexer": "java",
   "version": "17.0.8.1+1-Ubuntu-0ubuntu120.04"
  }
 },
 "nbformat": 4,
 "nbformat_minor": 2
}
