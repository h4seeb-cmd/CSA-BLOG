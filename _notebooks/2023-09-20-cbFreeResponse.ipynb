{
 "cells": [
  {
   "cell_type": "markdown",
   "metadata": {},
   "source": [
    "---\n",
    "title: FRQ 3 Analysis \n",
    "description: Analysis of FRQ 3  \n",
    "toc: True\n",
    "badges: False\n",
    "comments: True\n",
    "author: Haseeb Beg\n",
    "categories: ['week05']\n",
    "type: tangibles\n",
    "courses: { compsci: {week: 5} }\n",
    "layout: notebook\n",
    "---"
   ]
  },
  {
   "cell_type": "markdown",
   "metadata": {},
   "source": [
    "### Explanation\n",
    "The Array/Array Lists FRQ asks the student to write program code to create objects of a class and call methods. It also asks the students to write program code to satisfy method specifications using expressions, conditional statements, and iterative statements. CollegeBoard provides the student with a ReviewAnalysis class, and I had to write code for two methods inside said class. In part A, I had to write code for a loop that accessed each element of the array instance variable allReviews and returned the calculated average of all the return values of the method getRating. I had to declare and initialize a variable to hold the sum of all ratings. Inside the loop, I had to call the method getRating on all Review elements in allReviews, accumulating a total of the ratings. In part B, I had to write an array list to hold string values. "
   ]
  },
  {
   "cell_type": "markdown",
   "metadata": {},
   "source": [
    "### Code"
   ]
  },
  {
   "cell_type": "code",
   "execution_count": 5,
   "metadata": {
    "vscode": {
     "languageId": "java"
    }
   },
   "outputs": [
    {
     "ename": "CompilationException",
     "evalue": "",
     "output_type": "error",
     "traceback": [
      "\u001b[1m\u001b[30m|   \u001b[1m\u001b[30m        return \u001b[0m\u001b[1m\u001b[30m\u001b[41mcomment\u001b[0m\u001b[1m\u001b[30m;\u001b[0m",
      "\u001b[1m\u001b[31mincompatible types: java.lang.String cannot be converted to int\u001b[0m",
      ""
     ]
    }
   ],
   "source": [
    "// GIVEN BY COLLEGEBOARD\n",
    "public class Review\n",
    "{\n",
    "    private int rating;\n",
    "    private String comment;\n",
    "\n",
    "    public Review(int r, String c){\n",
    "        rating = r;\n",
    "        comment = c;\n",
    "    }\n",
    "    public int getRating(){\n",
    "        return rating;\n",
    "    }    \n",
    "    public int getComment(){\n",
    "        return comment;\n",
    "    }\n",
    "}\n",
    "\n",
    "public class ReviewAnalysis()\n",
    "{\n",
    "    private Review[] = allReviews;\n",
    "    public ReviewAnalysis(){\n",
    "        // not provided \n",
    "    }\n",
    "}\n",
    "// a) Writ\n",
    "public double getAverageRating()\n",
    "{\n",
    "    int sum = 0;\n",
    "    for (Review r : allReviews){\n",
    "        sum += r.getRating();\n",
    "    }\n",
    "    return (double) sum / allReviews.length;\n",
    "}\n",
    "// b)\n",
    "public ArrayList<String> collectComments()\n",
    "{\n",
    "    ArrayList<String> commentList = new ArrayList<String>();\n",
    "    for (int i = 0; i < allReviews.length; i++) {\n",
    "        String comment = allReviews[i].getComment();\n",
    "        if (comment.indexOf(\"!\") >= 0){ \n",
    "            String last =\n",
    "            comment.substring(comment.length() – 1);\n",
    "        if (!last.equals(\"!\") && !last.equals(\".\")){\n",
    "            comment += \".\";\n",
    "        }\n",
    "        commentList.add(i + \"-\" + comment);\n",
    "        }   \n",
    " }\n",
    " return commentList;\n",
    "} "
   ]
  }
 ],
 "metadata": {
  "kernelspec": {
   "display_name": "Java",
   "language": "java",
   "name": "java"
  },
  "language_info": {
   "codemirror_mode": "java",
   "file_extension": ".jshell",
   "mimetype": "text/x-java-source",
   "name": "Java",
   "pygments_lexer": "java",
   "version": "11.0.20.1+1-post-Ubuntu-0ubuntu120.04"
  },
  "orig_nbformat": 4
 },
 "nbformat": 4,
 "nbformat_minor": 2
}
