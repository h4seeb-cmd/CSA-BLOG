{
 "cells": [
  {
   "cell_type": "markdown",
   "metadata": {},
   "source": [
    "---\n",
    "title: FRQ 3 Analysis \n",
    "description: Analysis of FRQ 3 on the 2022 AP Exam for CSA.\n",
    "toc: True\n",
    "badges: False\n",
    "comments: True\n",
    "author: Haseeb Beg\n",
    "type: tangibles\n",
    "courses: { compsci: {week: 5} }\n",
    "layout: notebook\n",
    "---"
   ]
  },
  {
   "cell_type": "markdown",
   "metadata": {},
   "source": [
    "### Overview\n",
    "The Array/Array Lists FRQ asks the student to write program code to create objects of a class and call methods. It also asks the students to write program code to satisfy method specifications using expressions, conditional statements, and iterative statements. CollegeBoard provides the student with a ReviewAnalysis class, and I had to write code for two methods inside said class. In part A, I had to write code for a loop that accessed each element of the array instance variable allReviews and returned the calculated average of all the return values of the method getRating. I had to declare and initialize a variable to hold the sum of all ratings. Inside the loop, I had to call the method getRating on all Review elements in allReviews, accumulating a total of the ratings. In part B, I had to write an array list to hold string values. "
   ]
  },
  {
   "cell_type": "markdown",
   "metadata": {},
   "source": [
    "### Possible Point Deductions\n",
    "1 point deductions:\n",
    "- Array/collection confusion\n",
    "- Extra code that causes unwanted side effects\n",
    "- Using local variables without declaring them\n",
    "- Changing a value that is used by a parameter (destruction of local data)\n",
    "- Void method/constructor that returns a value\n",
    "\n",
    "No point deduction for:\n",
    "- Minute errors in spelling (as long as the spelling can be very easily inferred), eg: ArraayList vs. Arraylist\n",
    "- Minute errors in syntax (VERY conditional, only applies for VERY small things when intent to add it was shown)\n",
    "- Missing public qualifier on class/constructor headers\n",
    "\n",
    "\n"
   ]
  },
  {
   "cell_type": "markdown",
   "metadata": {},
   "source": [
    "### Code"
   ]
  },
  {
   "cell_type": "code",
   "execution_count": 31,
   "metadata": {},
   "outputs": [
    {
     "name": "stdout",
     "output_type": "stream",
     "text": [
      "Average Rating: 3.8\n",
      "Comments:\n",
      "0-Great product!\n",
      "1-Good service\n",
      "2-Could be better.\n",
      "3-Not satisfied\n",
      "4-Excellent!\n"
     ]
    }
   ],
   "source": [
    "// GIVEN BY COLLEGEBOARD\n",
    "\n",
    "import java.util.ArrayList;\n",
    "\n",
    "// \n",
    "public class Review\n",
    "{\n",
    "    private int rating;\n",
    "    private String comment;\n",
    "\n",
    "    public Review(int r, String c){\n",
    "        rating = r;\n",
    "        comment = c;\n",
    "    }\n",
    "    public int getRating(){\n",
    "        return rating;\n",
    "    }    \n",
    "    public String getComment(){\n",
    "        return comment;\n",
    "    }\n",
    "}\n",
    "\n",
    "public class ReviewAnalysis {\n",
    "    private Review[] allReviews; // You need to declare and initialize this array\n",
    "\n",
    "    public ReviewAnalysis(Review[] reviews) {\n",
    "        allReviews = reviews;\n",
    "    }\n",
    "\n",
    "    public double getAverageRating() {\n",
    "        int sum = 0;\n",
    "        for (Review r : allReviews) {\n",
    "            sum += r.getRating();\n",
    "        }\n",
    "        return (double) sum / allReviews.length;\n",
    "    }\n",
    "\n",
    "    public ArrayList<String> collectComments() {\n",
    "        ArrayList<String> commentList = new ArrayList<String>();\n",
    "        for (int i = 0; i < allReviews.length; i++) {\n",
    "            String comment = allReviews[i].getComment();\n",
    "            if (comment.indexOf(\"!\") >= 0) {\n",
    "                String last = comment.substring(comment.length() - 1);\n",
    "                if (!last.equals(\"!\") && !last.equals(\".\")) {\n",
    "                    comment += \".\";\n",
    "                }\n",
    "            }\n",
    "            commentList.add(i + \"-\" + comment); // Corrected this line\n",
    "        }\n",
    "        return commentList;\n",
    "    }\n",
    "}\n",
    "\n",
    "public class Main {\n",
    "    public static void main(String[] args) {\n",
    "        // Create an array of Review objects for testing\n",
    "        Review[] reviews = new Review[]{\n",
    "            new Review(5, \"Great product!\"),\n",
    "            new Review(4, \"Good service\"),\n",
    "            new Review(3, \"Could be better.\"),\n",
    "            new Review(2, \"Not satisfied\"),\n",
    "            new Review(5, \"Excellent!\"),\n",
    "        };\n",
    "\n",
    "        // Create an instance of ReviewAnalysis with the test data\n",
    "        ReviewAnalysis reviewAnalysis = new ReviewAnalysis(reviews);\n",
    "\n",
    "        // Test the getAverageRating method\n",
    "        double averageRating = reviewAnalysis.getAverageRating();\n",
    "        System.out.println(\"Average Rating: \" + averageRating);\n",
    "\n",
    "        // Test the collectComments method\n",
    "        ArrayList<String> commentList = reviewAnalysis.collectComments();\n",
    "        System.out.println(\"Comments:\");\n",
    "        for (String comment : commentList) {\n",
    "            System.out.println(comment);\n",
    "        }\n",
    "    }\n",
    "}\n",
    "\n",
    "Main.main(null);\n"
   ]
  },
  {
   "cell_type": "markdown",
   "metadata": {},
   "source": [
    "### Rubric\n",
    "\n",
    "> a) 3 points total\n",
    "![rubricA](/images/rubric1.png)\n",
    "> b) 6 points total\n",
    "![Alt text](image.png)\n"
   ]
  }
 ],
 "metadata": {
  "kernelspec": {
   "display_name": "Java",
   "language": "java",
   "name": "java"
  },
  "language_info": {
   "codemirror_mode": "java",
   "file_extension": ".jshell",
   "mimetype": "text/x-java-source",
   "name": "java",
   "pygments_lexer": "java",
   "version": "17.0.8.1+1-Ubuntu-0ubuntu120.04"
  },
  "orig_nbformat": 4
 },
 "nbformat": 4,
 "nbformat_minor": 2
}
