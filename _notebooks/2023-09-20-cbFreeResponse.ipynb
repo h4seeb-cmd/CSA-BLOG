{
 "cells": [
  {
   "cell_type": "markdown",
   "metadata": {},
   "source": [
    "---\n",
    "title: FRQ 3 Analysis \n",
    "description: Analysis of FRQ 3  \n",
    "toc: True\n",
    "badges: False\n",
    "comments: True\n",
    "author: Haseeb Beg\n",
    "categories: ['week05']\n",
    "type: tangibles\n",
    "courses: { compsci: {week: 5} }\n",
    "layout: notebook\n",
    "---"
   ]
  },
  {
   "cell_type": "markdown",
   "metadata": {},
   "source": [
    "### Explanation\n",
    "The Array/Array Lists FRQ asks the student to write program code to create objects of a class and call methods. It also asks the students to write program code to satisfy method specifications using expressions, conditional statements, and iterative statements. CollegeBoard provides the student with a ReviewAnalysis class, and I had to write code for two methods inside said class. In part A, I had to write code for a loop that accessed each element of the array instance variable allReviews and returned the calculated average of all the return values of the method getRating. I had to declare and initialize a variable to hold the sum of all ratings. Inside the loop, I had to call the method getRating on all Review elements in allReviews, accumulating a total of the ratings. In part B, I had to write an array list to hold string values. "
   ]
  },
  {
   "cell_type": "markdown",
   "metadata": {},
   "source": [
    "### Code"
   ]
  },
  {
   "cell_type": "code",
   "execution_count": null,
   "metadata": {},
   "outputs": [],
   "source": [
    "public double getAverageRating()\n",
    "{\n",
    " int sum = 0;\n",
    "\n",
    " for (Review r : allReviews)\n",
    " {\n",
    " sum += r.getRating();\n",
    " }\n",
    " return (double) sum / allReviews.length;\n",
    "}\n",
    "3 points \n",
    "(b)  public ArrayList<String> collectComments()\n",
    "{\n",
    " ArrayList<String> commentList = new ArrayList<String>();\n",
    " for (int i = 0; i < allReviews.length; i++)\n",
    " {\n",
    " String comment = allReviews[i].getComment();\n",
    " if (comment.indexOf(\"!\") >= 0)\n",
    " {\n",
    " String last =\n",
    " comment.substring(comment.length() – 1);\n",
    " if (!last.equals(\"!\") && !last.equals(\".\"))\n",
    " {\n",
    " comment += \".\";\n",
    " }\n",
    " commentList.add(i + \"-\" + comment);\n",
    " }\n",
    " }\n",
    " return commentList;\n",
    "} "
   ]
  }
 ],
 "metadata": {
  "kernelspec": {
   "display_name": "Java",
   "language": "java",
   "name": "java"
  },
  "language_info": {
   "name": "java"
  },
  "orig_nbformat": 4
 },
 "nbformat": 4,
 "nbformat_minor": 2
}
