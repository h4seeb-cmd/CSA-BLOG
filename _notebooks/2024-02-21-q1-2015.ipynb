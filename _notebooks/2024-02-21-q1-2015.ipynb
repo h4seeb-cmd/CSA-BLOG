{
 "cells": [
  {
   "cell_type": "markdown",
   "metadata": {},
   "source": [
    "---\n",
    "toc: true\n",
    "comments: true\n",
    "layout: notebook\n",
    "title: Question 1 - 2015 FRQ\n",
    "description: Code and reflections on question 1 of the 2015 FRQ\n",
    "type: tangibles\n",
    "courses: { compsci: {week: 23} }\n",
    "authors: Mirza Beg\n",
    "---\n"
   ]
  },
  {
   "cell_type": "markdown",
   "metadata": {},
   "source": [
    "# Part A"
   ]
  },
  {
   "cell_type": "code",
   "execution_count": 1,
   "metadata": {},
   "outputs": [
    {
     "name": "stdout",
     "output_type": "stream",
     "text": [
      "16\n"
     ]
    }
   ],
   "source": [
    "public static int arraySum(int[] arr){\n",
    "    int total = 0;\n",
    "    for(int number : arr){\n",
    "        total += number; // for loop iterates through every number in array and adds them all up.\n",
    "    }\n",
    "    return total;\n",
    "}\n",
    "// tester code\n",
    "int[] numbers = {1,3,2,7,3};   \n",
    "int sum = arraySum(numbers);  \n",
    "System.out.println(sum);"
   ]
  },
  {
   "cell_type": "markdown",
   "metadata": {},
   "source": [
    "This part was fairly simple, as it just required basic recursion. I used a for each loop (also known as an enhanced for loop) to iterate through each number in any given array."
   ]
  },
  {
   "cell_type": "markdown",
   "metadata": {},
   "source": [
    "# Part B"
   ]
  },
  {
   "cell_type": "code",
   "execution_count": 2,
   "metadata": {},
   "outputs": [
    {
     "name": "stdout",
     "output_type": "stream",
     "text": [
      "[16, 32, 28, 20]\n"
     ]
    }
   ],
   "source": [
    "public static int [] rowSums(int[][] arr2D){\n",
    "    int[] rowSum = new int[arr2D.length];\n",
    "    int i = 0;\n",
    "    for(int[] arr:arr2D){\n",
    "        rowSum[i] = arraySum(arr);\n",
    "        i++;\n",
    "    }\n",
    "    return rowSum;\n",
    "}\n",
    "int [][] arrayThing = {{1,3,2,7,3},{10,10,4,6,2},{5,3,5,9,6},{7,6,4,2,1}};\n",
    "System.out.println(Arrays.toString(rowSums(arrayThing)));"
   ]
  },
  {
   "cell_type": "markdown",
   "metadata": {},
   "source": [
    "This part expanded upon the last part, now being expanded to work with 2D Arrays. This one took me a bit longer, but if you think about it, it's pretty much the same thing as the last problem, as instead of iterating through each individual number, you're just iterating through the different arrays while using \"arraySum()\" as defined in part A in order to get the various sums. Then all I had to do is put the values into an array, which just needed me to create a new array, rowSum, and set the given index to the sum of the corresponding array. "
   ]
  },
  {
   "cell_type": "markdown",
   "metadata": {},
   "source": [
    "# Part C"
   ]
  },
  {
   "cell_type": "code",
   "execution_count": 30,
   "metadata": {},
   "outputs": [
    {
     "name": "stdout",
     "output_type": "stream",
     "text": [
      "Testing True Condition:\n",
      "------------------------\n",
      "true\n"
     ]
    }
   ],
   "source": [
    "public static boolean isDiverse(int[][] arr2D){\n",
    "    int[] sumRows = rowSums(arrayThing);\n",
    "    for(int i = 0; i < sumRows.length; i++){\n",
    "        for(int j = i+1; j < sumRows.length; j++){\n",
    "            if (sumRows[i] == sumRows[j]){\n",
    "                return false;\n",
    "            }\n",
    "        }\n",
    "    }\n",
    "    return true;\n",
    "}\n",
    "//int [][] arrayThing = {{1,3,2,7,3},{10,10,4,6,2},{5,3,5,9,6},{7,6,4,2,1}}; // should return true, as all arrays have unique sequence of numbers.\n",
    "System.out.println(\"Testing True Condition:\");\n",
    "System.out.println(\"------------------------\");\n",
    "System.out.println(isDiverse(arrayThing));\n"
   ]
  },
  {
   "cell_type": "markdown",
   "metadata": {},
   "source": [
    "This part took me the longest, as it took me a while to figure out that I needed a nested for loop in order to check not only the given index, but the index next to it as well, in order to check whether the arrays are unique in their sequencing. I definitely need to work on my nested loop knowledge, as this took me a very long time, and I needed to review previous material in order to get this. "
   ]
  }
 ],
 "metadata": {
  "kernelspec": {
   "display_name": "Java",
   "language": "java",
   "name": "java"
  },
  "language_info": {
   "codemirror_mode": "java",
   "file_extension": ".jshell",
   "mimetype": "text/x-java-source",
   "name": "java",
   "pygments_lexer": "java",
   "version": "17.0.8.1+1-Ubuntu-0ubuntu120.04"
  }
 },
 "nbformat": 4,
 "nbformat_minor": 2
}
