{
 "cells": [
  {
   "cell_type": "markdown",
   "metadata": {},
   "source": [
    "---\n",
    "comments: true\n",
    "layout: home\n",
    "title: Lesson\n",
    "type: hacks\n",
    "permalink: /lessonMCQ\n",
    "toc: true\n",
    "courses: { csa: {week: 18} }\n",
    "---"
   ]
  },
  {
   "cell_type": "markdown",
   "metadata": {},
   "source": [
    "## What are the loops in java\n",
    "Loops in Java is a feature used to execute a particular part of the program repeatedly if a given condition evaluates to be true. While all three types' basic functionality remains the same, there's a vast difference in the syntax and how they operate.         \n",
    "\n",
    "Known examples are:\n",
    "- while\n",
    "- for \n",
    "\n",
    "### For loop\n",
    "![img](https://blog.hubspot.com/hs-fs/hubfs/Google%20Drive%20Integration/Understanding%20the%20Basics%20of%20the%20Java%20For%20Loop%20%26%20How%20to%20Use%20Them.png?width=650&name=Understanding%20the%20Basics%20of%20the%20Java%20For%20Loop%20%26%20How%20to%20Use%20Them.png)\n",
    "\n",
    "The structure of the for statement is the same as above. As long as the condition is true, the codes are repeated, and when it becomes false, the loop stops. At first, the initialization (the first value is stored in a variable) is executed.\n",
    "\n",
    "- <mark>**Initialization**</mark>: This is the part that initializes variables to be used in the loop, and is performed only once at the beginning.\n",
    "    - for(**int i=1** ;i<=10;i++){  } \n",
    "    - for(**int i=1, j=1**;i<=10;i++){  } \n",
    "\n",
    "- <mark>**Condition**</mark>: Iteration continues as long as the value of the condition is true, and if it is false, iteratipon stops and exits the for code.\n",
    "    - for(int i=1; <mark>**i<=10;**</mark> i++){  } \n",
    "\n",
    "- <mark>**Iteration**</mark> Increases or decreases the value of the variable that controls the loop. Each time the code is executed, the value of the variable increases or decreases, and later the condition becomes false and the for repetition stops.\n",
    "    - for(int i=1;i<=10;<mark>**i++**</mark>){  }  \n",
    "    - for(int i=10;i>=1;<mark>**i--**</mark>){  }  \n",
    "    - for(int i=1;i<=10;<mark>**i+=2**</mark>){  } \n",
    "\n",
    "\n",
    "The three elements can be written by joining two or more sentences together using commas. Additionally, these elements can be omitted if not necessary, and can be omitted altogether.    \n",
    "--> for( ; ; ) { } Infinite loop\n",
    "\n",
    "#### for loop in array\n",
    "for(type : array or collection) {     \n",
    "    Values stored in an array or collection are read one by one in order at each repetition and stored in variables.    \n",
    "}    \n",
    "The structure of the for loop in array is the same as above, and is separated by a colon (:) rather than a semicolon (;). Variable name: After declaring it as an array name, when the variable name is output, the array element value is output according to the corresponding index. Unlike the general for loop, the for loop in array can only be used to read elements stored in arrays and collections.\n"
   ]
  },
  {
   "cell_type": "code",
   "execution_count": null,
   "metadata": {},
   "outputs": [],
   "source": [
    "for (int k: score) {\n",
    "    System.out.print(k + \" \");\n",
    "}"
   ]
  },
  {
   "cell_type": "markdown",
   "metadata": {},
   "source": [
    "### while loop\n",
    "![img](https://prepbytes-misc-images.s3.ap-south-1.amazonaws.com/assets/1670564931459-While%20Loop%20Program%20in%20C%202.png)"
   ]
  },
  {
   "cell_type": "code",
   "execution_count": null,
   "metadata": {},
   "outputs": [],
   "source": [
    "while (condition) {\n",
    "    <code1>;\n",
    "    <code2>;\n",
    "    <code3>;\n",
    "    ...\n",
    "}"
   ]
  },
  {
   "cell_type": "markdown",
   "metadata": {},
   "source": [
    "#### Infinite loop \n",
    "In Java, an infinite loop can be implemented with a while statement. Among the programs we use, infinite loops are used so often that there is not a single one that does not use the concept of infinite loops."
   ]
  },
  {
   "cell_type": "code",
   "execution_count": null,
   "metadata": {},
   "outputs": [],
   "source": [
    "while (true) {    \n",
    "    <code1>;\n",
    "    <code2>;\n",
    "    ...\n",
    "}"
   ]
  },
  {
   "cell_type": "markdown",
   "metadata": {},
   "source": [
    "#### break\n",
    "The while statement repeatedly executes the contents of the while statement while the conditional statement is true. However, there are times when you have to forcefully exit the while statement.     \n",
    "\n",
    "\n",
    "For example, consider a coffee vending machine. Whenever there is enough coffee in the vending machine, a while statement with the conditional statement ‘Give coffee when money is received’ is executed. In order for the vending machine to function properly, it would have to separately check the amount of coffee, stop the while loop when the coffee runs out, and display the phrase ‘Selling stopped’ on the vending machine. <mark>**break**</mark> is used when you need to force a while statement to stop.     \n",
    "\n",
    "<U>break also works on for loop</U>"
   ]
  },
  {
   "cell_type": "code",
   "execution_count": 1,
   "metadata": {},
   "outputs": [
    {
     "name": "stdout",
     "output_type": "stream",
     "text": [
      "Give coffee when money is received\n",
      "The amount of coffee remaining is 9\n",
      "Give coffee when money is received\n",
      "The amount of coffee remaining is 8\n",
      "Give coffee when money is received\n",
      "The amount of coffee remaining is 7\n",
      "Give coffee when money is received\n",
      "The amount of coffee remaining is 6\n",
      "Give coffee when money is received\n",
      "The amount of coffee remaining is 5\n",
      "Give coffee when money is received\n",
      "The amount of coffee remaining is 4\n",
      "Give coffee when money is received\n",
      "The amount of coffee remaining is 3\n",
      "Give coffee when money is received\n",
      "The amount of coffee remaining is 2\n",
      "Give coffee when money is received\n",
      "The amount of coffee remaining is 1\n",
      "Give coffee when money is received\n",
      "The amount of coffee remaining is 0\n",
      "We're out of coffee. stop selling.\n"
     ]
    }
   ],
   "source": [
    "public class Coffee {\n",
    "    public static void main(String[] args) {\n",
    "        int coffee = 10;\n",
    "        int money = 300;\n",
    "\n",
    "        while (money > 0) {\n",
    "            System.out.println(\"Give coffee when money is received\");\n",
    "            coffee--;\n",
    "            System.out.println(\"The amount of coffee remaining is \" + coffee);\n",
    "            if (coffee == 0) {\n",
    "                System.out.println(\"We're out of coffee. stop selling.\");\n",
    "                break;\n",
    "            }\n",
    "        }\n",
    "    }\n",
    "}\n",
    "Coffee.main(null)"
   ]
  },
  {
   "cell_type": "markdown",
   "metadata": {},
   "source": [
    "#### continue\n",
    "When the continue command is met, the Java Virtual Machine jumps to the next iteration of the loop without executing more of the while loop body.\n",
    "\n",
    "<U>continue also works on for loop</U>"
   ]
  },
  {
   "cell_type": "code",
   "execution_count": 2,
   "metadata": {},
   "outputs": [
    {
     "name": "stdout",
     "output_type": "stream",
     "text": [
      "1\n",
      "3\n",
      "5\n",
      "7\n",
      "9\n"
     ]
    }
   ],
   "source": [
    "public class Ex1 {\n",
    "    public static void main(String[] args) {\n",
    "        int a = 0;\n",
    "        while (a < 10) {\n",
    "            a++;\n",
    "            if (a % 2 == 0) {\n",
    "                continue;  // if it is even, go back to the condition\n",
    "            }\n",
    "            System.out.println(a);  // print only odd number.\n",
    "        }\n",
    "    }\n",
    "}\n",
    "Ex1.main(null);"
   ]
  },
  {
   "cell_type": "markdown",
   "metadata": {},
   "source": [
    "### While vs For, Which is more faster\n",
    "For the experiment, declare an ArrayList to contain integers as shown below.\n",
    "\n",
    "At this time, by placing test_data in memory,\n",
    "\n",
    "so that it can be used anywhere within the class\n",
    "\n",
    "Place it as a global variable (member variable) in the field of public class WhichLoopIsFaster."
   ]
  },
  {
   "cell_type": "code",
   "execution_count": null,
   "metadata": {},
   "outputs": [],
   "source": [
    "public static ArrayList<Integer> test_data = InputTestData();"
   ]
  },
  {
   "cell_type": "code",
   "execution_count": 9,
   "metadata": {},
   "outputs": [
    {
     "name": "stdout",
     "output_type": "stream",
     "text": [
      "\n",
      "--- For ---\n",
      "\n",
      "For :: time: 33 ms \n",
      "\n",
      "--- While Loop ---\n",
      "\n",
      "While :: time: 26 ms\n"
     ]
    }
   ],
   "source": [
    "import java.util.ArrayList;\n",
    "import java.util.Date;\n",
    "import java.util.Iterator;\n",
    "\n",
    "public class WhichLoopIsFaster {\n",
    "\n",
    "public static ArrayList<Integer> test_data = InputTestData();\n",
    "public static void main(String[] args) {\n",
    "\t    \t\n",
    "\t\tWhichLoopIsFaster evaluate = new WhichLoopIsFaster();\n",
    "\n",
    "\t    \tevaluate.For();\n",
    "\t    \tevaluate.While();\n",
    "\t}\n",
    "\n",
    "    public void For() {\n",
    "        System.out.println(\"\\n--- For ---\\n\");\n",
    "        long startTime = new Date().getTime();\n",
    "        int i;\n",
    "        for (i = 0; i < test_data.size(); i++) {\n",
    "        \tint v = test_data.get(i);\n",
    "        }\n",
    "        long endTime = new Date().getTime();\n",
    "        long elapsed = endTime - startTime;\n",
    "        System.out.println(\"For :: time: \"+elapsed+ \" ms \" );\n",
    "    }\n",
    "\n",
    "    public void While() {\n",
    "        System.out.println(\"\\n--- While Loop ---\\n\");\n",
    "        long startTime = new Date().getTime();\n",
    "\n",
    "        int i = 0;\n",
    "        while (i < test_data.size()) {\n",
    "            int v = test_data.get(i);\n",
    "            i++;\n",
    "        }\n",
    "        long endTime = new Date().getTime();\n",
    "        long elapsed = endTime - startTime;\n",
    "        System.out.println(\"While :: time: \"+elapsed+ \" ms\" );\n",
    "    }\n",
    "\n",
    "\n",
    "    public static ArrayList<Integer> InputTestData() {\n",
    "        ArrayList<Integer> arr = new ArrayList<Integer>();\n",
    "        for (int i = 0; i < 15000000; i++) {\n",
    "        \tarr.add(i);\n",
    "        }\n",
    "        return arr;\n",
    "    }\n",
    "\n",
    "}\t\n",
    "WhichLoopIsFaster.main(null);"
   ]
  },
  {
   "cell_type": "markdown",
   "metadata": {},
   "source": [
    "#### Result\n",
    "![img](../images/exp1.png)\n",
    "![img](../images/exp2.png)\n",
    "![img](../images/exp3.png)\n",
    "\n",
    "The execution speed of the For statement and While statement seem to be almost similar."
   ]
  },
  {
   "cell_type": "code",
   "execution_count": null,
   "metadata": {},
   "outputs": [],
   "source": [
    "public static ArrayList<Integer> InputTestData() {\n",
    "    ArrayList arr = new ArrayList();\n",
    "            for (int i = 0; i < 15000000; i++) {\n",
    "                arr.add(i);\n",
    "            }\n",
    "            return arr;\n",
    "    }"
   ]
  },
  {
   "cell_type": "markdown",
   "metadata": {},
   "source": [
    "## length\n",
    "- length is used when you want to know the length of an array.\n",
    "- arrays(int[], double[], String[])\n",
    "\n",
    "### length() \n",
    "- String related Object(String, StringBuilder etc)\n",
    "- length() is used when you want to know the length of a string."
   ]
  },
  {
   "cell_type": "markdown",
   "metadata": {},
   "source": [
    "## Q37 concatWords method with String array\n",
    "Now that you’ve learned the basics of for loop and while loop manipulation, it’s time to tie this into the 2015 CollegeBoard MCQ we took. Today, we will be going over question 37. which is the following:\n",
    "![img](../images/q37.png)\n",
    "### popcorn hack\n",
    "Analyze the code and fill out the blank in the line     \n",
    "startIndex is equal to 2 \n",
    "#### 1. \n"
   ]
  },
  {
   "cell_type": "code",
   "execution_count": null,
   "metadata": {},
   "outputs": [],
   "source": [
    "for(k = startIndex; k< words.length; k++) {\n",
    "    result+= words[k] + words[words.length - k -1];\n",
    "}"
   ]
  },
  {
   "cell_type": "markdown",
   "metadata": {},
   "source": [
    "k starts with 2 and become 3 and 4. Eventually, it will stop when k reaches to 5 (words.length)    \n",
    "\n",
    "When k = 2 --> words[k] = _____ , words[words.length - k -1] = ______    \n",
    "When k = 3 --> words[k] = _____ , words[words.length - k -1] = ______     \n",
    "When k = 4 --> words[k] = _____ , words[words.length - k -1] = ______     \n",
    "\n",
    "Then describe the reason why this is possible or not.      \n",
    "_______________________________________________________________\n",
    "\n",
    "##### 2. "
   ]
  },
  {
   "cell_type": "code",
   "execution_count": null,
   "metadata": {},
   "outputs": [],
   "source": [
    "int k = words.length - 1;\n",
    "while (k > = startIndex) {\n",
    "    result += words[k];\n",
    "    k--;\n",
    "}"
   ]
  },
  {
   "cell_type": "markdown",
   "metadata": {},
   "source": [
    "Since the words.length is 5, the k will start as 4 and become 3 and 2. it will stop when k becomes lower than 2\n",
    "\n",
    "when k = 4 --> words[k] = _____     \n",
    "when k = 3 --> words[k] = _____    \n",
    "when k = 2 --> words[k] = _____     \n",
    "\n",
    "\n",
    "Then describe the reason why this is possible or not.      \n",
    "_______________________________________________________________\n",
    "\n",
    "##### 3. "
   ]
  },
  {
   "cell_type": "code",
   "execution_count": null,
   "metadata": {},
   "outputs": [],
   "source": [
    "String[] temp  = new String[words.length];\n",
    "for (int k= 0; k<=words.length/2; k++) {\n",
    "    temp[k] = words[words.length - k - 1];\n",
    "    temp[words.length - k - 1] = words[k];\n",
    "}\n",
    "\n",
    "for (int k = 0; k< temp.length - startIndex; k++) {\n",
    "    result += temp[k];\n",
    "}"
   ]
  },
  {
   "cell_type": "markdown",
   "metadata": {},
   "source": [
    "The k for fist loop will be 0 and become 1 and 2 in the second and third loop. (because words.length/2 = 2)            \n",
    "The array temp will have 5 numbers stored in it.          \n",
    "\n",
    "When k = 0 --> words[words.length - k - 1] = ______ , words[k] = _______         \n",
    "When k = 1 --> words[words.length - k - 1] = ______ , words[k] = _______          \n",
    "When k = 2 --> words[words.length - k - 1] = ______ , words[k] = _______         \n",
    "\n",
    "temp = [__, ___, ___, ___, ___]\n",
    "\n",
    "For the second loop the k starts with 0 and become 1 and 2 like the first loop.      \n",
    "The result will be sum of first, second, and third elements on the array\n",
    "\n",
    "\n",
    "hen describe the reason why this is possible or not.      \n",
    "_______________________________________________________________"
   ]
  },
  {
   "cell_type": "markdown",
   "metadata": {},
   "source": [
    "## Hack \n",
    "1. Create the new method so that when the code segment is executed, the string \"CarHouseGorilla\" is printed.\n",
    "2. Calculate the time of the codes and compare the all of those. "
   ]
  }
 ],
 "metadata": {
  "kernelspec": {
   "display_name": "Java",
   "language": "java",
   "name": "java"
  },
  "language_info": {
   "codemirror_mode": "java",
   "file_extension": ".jshell",
   "mimetype": "text/x-java-source",
   "name": "java",
   "pygments_lexer": "java",
   "version": "20.0.2+9"
  }
 },
 "nbformat": 4,
 "nbformat_minor": 2
}
