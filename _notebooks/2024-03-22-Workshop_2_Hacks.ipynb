{
 "cells": [
  {
   "cell_type": "markdown",
   "metadata": {},
   "source": [
    "---\n",
    "title: Workshop 2 Hacks\n",
    "description: Classes Workshop Hacks\n",
    "toc: true\n",
    "layout: post\n",
    "type: hacks\n",
    "comments: true\n",
    "---"
   ]
  },
  {
   "cell_type": "markdown",
   "metadata": {},
   "source": [
    "# Free Response Questions\n",
    "\n",
    "## Question 1 - Pojos and Access Control:\n",
    "Situation: The school librarian wants to create a program that stores all of the books within the library in a database and is used to manage their inventory of books available to the students. You decided to put your amazing code skills to work and help out the librarian!\n",
    "\n",
    "a. Describe the key differences between the private and public access controllers and how it affects a POJO\n",
    "\n",
    "b. Identify a scenario when you would use the private vs. public access controllers that isn't the one given in the scenario above\n",
    "\n",
    "c. Create a Book class that represents the following attributes about a book: title, author, date published, person holding the book and make sure that the objects are using a POJO, the proper getters and setters and are secure from any other modifications that the program makes later to the objects\n"
   ]
  },
  {
   "cell_type": "code",
   "execution_count": null,
   "metadata": {
    "vscode": {
     "languageId": "java"
    }
   },
   "outputs": [],
   "source": []
  },
  {
   "cell_type": "markdown",
   "metadata": {},
   "source": [
    "## Question 2 - Writing Classes:\n",
    "\n",
    "(a) Describe the different features needed to create a class and what their purpose is.\n",
    "\n",
    "(b) Code:\n",
    "\n",
    "Create a Java class BankAccount to represent a simple bank account. This class should have the following attributes:\n",
    "- accountHolder (String): The name of the account holder.\n",
    "balance (double): The current balance in the account.\n",
    "Implement the following mutator (setter) methods for the BankAccount class:\n",
    "- setAccountHolder(String name): Sets the name of the account holder.\n",
    "- deposit(double amount): Deposits a given amount into the account.\n",
    "- withdraw(double amount): Withdraws a given amount from the account, but only if the withdrawal amount is less than or equal to the current balance.\n",
    "Ensure that the balance is never negative."
   ]
  },
  {
   "cell_type": "code",
   "execution_count": null,
   "metadata": {
    "vscode": {
     "languageId": "java"
    }
   },
   "outputs": [],
   "source": []
  },
  {
   "cell_type": "markdown",
   "metadata": {},
   "source": [
    "## Question 3 - Instantiation of a Class\n",
    "\n",
    "(a) Explain how a constructor works, including when it runs and what generally is done within a constructor.\n",
    "A constructor is a special method used for object initialization. When the object is created, the constructor is called, and when called, the constructor allocates the memory needed for the object. The default state of a constructor is a no argument constructor, which is automatically created when no arguments are specified.\n",
    "\n",
    "(b) Create an example of an overloaded constructor within a class. You must use at least three variables. Include the correct initialization of variables and correct headers for the constructor. Then, run the constructor at least twice with different variables and demonstrate that these two objects called different constructors. "
   ]
  },
  {
   "cell_type": "code",
   "execution_count": 21,
   "metadata": {
    "vscode": {
     "languageId": "java"
    }
   },
   "outputs": [
    {
     "name": "stdout",
     "output_type": "stream",
     "text": [
      "Call 1: No arguments given in creation of car object | Techrules GT96: 1030 hp | $1\n",
      "Call 2: Name argument passed | Porsche 919 Hybrid EVO: 1160 hp | $2\n",
      "Call 3: Name and Horsepower passed | Volkswagen Golf: 30 hp | $500\n",
      "Call 3: Name and Horsepower passed | Fiat Panda: 10 hp | $50\n"
     ]
    }
   ],
   "source": [
    "public class Cars {\n",
    "    // instantiating params used later\n",
    "    String model;\n",
    "    int hp;\n",
    "    int price;\n",
    "\n",
    "    // default constructor\n",
    "    public Cars(){\n",
    "        model = \"Techrules GT96\";\n",
    "        hp = 1030;\n",
    "        price = 1;\n",
    "    }\n",
    "\n",
    "    public Cars(String name){\n",
    "        model = name;\n",
    "        hp = 1160;\n",
    "        price = 2;\n",
    "    }\n",
    "\n",
    "    public Cars(String name, int horsepower){\n",
    "        model = name;\n",
    "        hp = horsepower;\n",
    "        price = 500;\n",
    "    }\n",
    "\n",
    "    public Cars(String name, int horsepower, int cost){\n",
    "        model = name;\n",
    "        hp = horsepower;\n",
    "        price = cost;\n",
    "    }\n",
    "\n",
    "    public static void main(String[] args){\n",
    "        Cars car1 = new Cars();\n",
    "        System.out.println(\"Call 1: No arguments given in creation of car object | \" + car1.model + \": \" + car1.hp + \" hp | $\" + car1.price);\n",
    "\n",
    "        Cars car2 = new Cars(\"Porsche 919 Hybrid EVO\");\n",
    "        System.out.println(\"Call 2: Name argument passed | \" + car2.model + \": \" + car2.hp + \" hp | $\" + car2.price);\n",
    "\n",
    "        Cars car3 = new Cars(\"Volkswagen Golf\", 30);\n",
    "        System.out.println(\"Call 3: Name and Horsepower passed | \" + car3.model + \": \" + car3.hp + \" hp | $\" + car3.price);\n",
    "\n",
    "        Cars car4 = new Cars(\"Fiat Panda\", 10, 50);\n",
    "        System.out.println(\"Call 3: Name and Horsepower passed | \" + car4.model + \": \" + car4.hp + \" hp | $\" + car4.price);\n",
    "    }\n",
    "}\n",
    "\n",
    "Cars.main(null);"
   ]
  },
  {
   "cell_type": "markdown",
   "metadata": {},
   "source": [
    "## Question 4 - Wrapper Classes:\n",
    "\n",
    "(a) Provide a brief summary of what a wrapper class is and provide a small code block showing a basic example of a wrapper class.\n",
    "\n",
    "(b) Create a Java wrapper class called Temperature to represent temperatures in Celsius. Your Temperature class should have the following features:\n",
    "\n",
    "Fields:\n",
    "\n",
    "A private double field to store the temperature value in Celsius.\n",
    "\n",
    "\n",
    "Constructor:\n",
    "\n",
    "A constructor that takes a double value representing the temperature in Celsius and initializes the field.\n",
    "\n",
    "\n",
    "Methods:\n",
    "\n",
    "getTemperature(): A method that returns the temperature value in Celsius.\n",
    "setTemperature(double value): A method that sets a new temperature value in Celsius.\n",
    "toFahrenheit(): A method that converts the temperature from Celsius to Fahrenheit and returns the result as a double value. "
   ]
  },
  {
   "cell_type": "code",
   "execution_count": null,
   "metadata": {
    "vscode": {
     "languageId": "java"
    }
   },
   "outputs": [],
   "source": []
  },
  {
   "cell_type": "markdown",
   "metadata": {},
   "source": [
    "## Question 5 - Inheritence:\n",
    "\n",
    "Situation: You are developing a program to manage a zoo, where various types of animals are kept in different enclosures. To streamline your code, you decide to use inheritance to model the relationships between different types of animals and their behaviors.\n",
    "\n",
    "(a) Explain the concept of inheritance in Java. Provide an example scenario where inheritance is useful.\n",
    "\n",
    "\n",
    "(b) Code:\n",
    "\n",
    "You need to implement a Java class hierarchy to represent different types of animals in the zoo. Create a superclass Animal with basic attributes and methods common to all animals, and at least three subclasses representing specific types of animals with additional attributes and methods. Include comments to explain your code, specifically how inheritance is used.\n"
   ]
  },
  {
   "cell_type": "code",
   "execution_count": null,
   "metadata": {
    "vscode": {
     "languageId": "java"
    }
   },
   "outputs": [],
   "source": [
    "public class Animal {\n",
    "    private String species;\n",
    "    private int age;\n",
    "    \n",
    "    // Constructor for Animal class\n",
    "    public Animal(String species, int age) {\n",
    "        this.species = species;\n",
    "        this.age = age;\n",
    "    }\n",
    "    \n",
    "    // Getters and setters for species and age\n",
    "    public String getSpecies() {\n",
    "        return species;\n",
    "    }\n",
    "    \n",
    "    public void setSpecies(String species) {\n",
    "        this.species = species;\n",
    "    }\n",
    "    \n",
    "    public int getAge() {\n",
    "        return age;\n",
    "    }\n",
    "    \n",
    "    public void setAge(int age) {\n",
    "        this.age = age;\n",
    "    }\n",
    "    \n",
    "    // Method to display information about the animal\n",
    "    public void displayInfo() {\n",
    "        System.out.println(\"Species: \" + species);\n",
    "        System.out.println(\"Age: \" + age);\n",
    "    }\n",
    "}\n",
    "\n",
    "// Penguin subclass which inherits Animal class traits\n",
    "public class Penguin extends Animal {\n",
    "    private String pattern;\n",
    "    \n",
    "    // Constructor for Penguin class\n",
    "    public Penguin(String species, int age, String pattern) {\n",
    "        super(species, age); \n",
    "        this.pattern = pattern;\n",
    "    }\n",
    "    \n",
    "    // Getter and setter for pattern\n",
    "    public String getPattern() {\n",
    "        return pattern;\n",
    "    }\n",
    "    \n",
    "    public void setPattern(String pattern) {\n",
    "        this.pattern = pattern;\n",
    "    }\n",
    "\n",
    "    // Method to display information about the penguin\n",
    "    public void displayInfo() {\n",
    "        super.displayInfo(); // Calling the displayInfo() method of superclass Animal\n",
    "        System.out.println(\"Pattern: \" + pattern);\n",
    "    }\n",
    "}\n",
    "\n",
    "// Cheetah subclass which inherits Animal class traits\n",
    "public class Cheetah extends Animal {\n",
    "    private int topSpeed;\n",
    "    \n",
    "    // Constructor for Cheetah class\n",
    "    public Cheetah(String species, int age, int topSpeed) {\n",
    "        super(species, age); // Calling the constructor of superclass Animal\n",
    "        this.topSpeed = topSpeed; \n",
    "    }\n",
    "    \n",
    "    // Getter and setters for topSpeed\n",
    "    public int getTopSpeed() {\n",
    "        return topSpeed;\n",
    "    }\n",
    "    \n",
    "    public void setTopSpeed(int topSpeed) {\n",
    "        this.topSpeed = topSpeed;\n",
    "    }\n",
    "\n",
    "    public void cheetahNoise() { // A new method specific to cheetah class\n",
    "        System.out.println(\"Rrrrrrowwwwwww\");\n",
    "    }\n",
    "    \n",
    "    // Method to display information about the cheetah\n",
    "    public void displayInfo() {\n",
    "        super.displayInfo(); // Calling the displayInfo() method of superclass Animal\n",
    "        System.out.println(\"Top Speed: \" + topSpeed);\n",
    "    }\n",
    "}\n",
    "\n",
    "// Dolphin subclass which inherits Animal class traits\n",
    "public class Dolphin extends Animal {\n",
    "    private int length; \n",
    "    \n",
    "    // Constructor for Dolphin class\n",
    "    public Dolphin(String species, int age, int length) {\n",
    "        super(species, age); // Calling the constructor of superclass Animal\n",
    "        this.length = length;\n",
    "    }\n",
    "    \n",
    "    // Getter and setter for length\n",
    "    public int getLength() {\n",
    "        return length;\n",
    "    }\n",
    "    \n",
    "    public void setLength(int length) {\n",
    "        this.length = length;\n",
    "    }\n",
    "\n",
    "    public void dolphinSound() { \n",
    "        System.out.println(\"EeEeEeEeEeEeEeEeEeEe\"); \n",
    "    }\n",
    "    \n",
    "    // Method to display information about the dolphin\n",
    "    public void displayInfo() {\n",
    "        super.displayInfo(); // Calling the displayInfo() method of superclass Animal\n",
    "        System.out.println(\"Length: \" + length);\n",
    "    }\n",
    "}\n"
   ]
  }
 ],
 "metadata": {
  "kernelspec": {
   "display_name": "Java",
   "language": "java",
   "name": "java"
  },
  "language_info": {
   "codemirror_mode": "java",
   "file_extension": ".jshell",
   "mimetype": "text/x-java-source",
   "name": "Java",
   "pygments_lexer": "java",
   "version": "11.0.17+8-post-Ubuntu-1ubuntu222.04"
  }
 },
 "nbformat": 4,
 "nbformat_minor": 2
}
