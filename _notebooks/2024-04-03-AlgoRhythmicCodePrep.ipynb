{
 "cells": [
  {
   "cell_type": "markdown",
   "metadata": {},
   "source": [
    "---\n",
    "toc: true\n",
    "comments: true\n",
    "layout: notebook\n",
    "title: Algo-Rhythmic Code Prep!\n",
    "description: Code examples of different sorts from Algo-Rhythmic\n",
    "type: tangibles\n",
    "courses: { compsci: {week: 30} }\n",
    "authors: Mirza Beg\n",
    "---\n"
   ]
  },
  {
   "cell_type": "markdown",
   "metadata": {},
   "source": [
    "# Quick Sort!"
   ]
  },
  {
   "cell_type": "code",
   "execution_count": 21,
   "metadata": {
    "vscode": {
     "languageId": "java"
    }
   },
   "outputs": [
    {
     "name": "stdout",
     "output_type": "stream",
     "text": [
      "Original array: [59, 95, 1, 12, 34]\n",
      "Sorted array: [1, 12, 34, 59, 95]\n",
      "Time taken: 2300 nanoseconds\n"
     ]
    }
   ],
   "source": [
    "import java.util.Arrays;\n",
    "public class QuickSort{\n",
    "    public static void quickSort(int arr[], int start, int end){\n",
    "        if(start < end){\n",
    "            int pivotIndex = partition(arr, start, end);\n",
    "\n",
    "            quickSort(arr, start, pivotIndex - 1);\n",
    "            quickSort(arr, pivotIndex , end);\n",
    "        }\n",
    "    }\n",
    "    public static int partition(int arr[], int start, int end){\n",
    "        int pivot = arr[end];\n",
    "        int i = start - 1;\n",
    "\n",
    "        for(int j = start; j < end; j++){\n",
    "            if(arr[j] < pivot){\n",
    "                i++;\n",
    "\n",
    "                int temp = arr[i];\n",
    "                arr[i] = arr[j];\n",
    "                arr[j] = temp;\n",
    "            }\n",
    "        }\n",
    "\n",
    "        int temp = arr[i + 1];\n",
    "        arr[i + 1] = arr[end];\n",
    "        arr[end] = temp;\n",
    "\n",
    "        return i + 1;\n",
    "    }\n",
    "\n",
    "    // main method for testing\n",
    "    public static void main(String[] args) {\n",
    "        int[] arr = {59, 95, 1, 12, 34};\n",
    "        System.out.println(\"Original array: \" + Arrays.toString(arr));\n",
    "        long startTime = System.nanoTime();\n",
    "        quickSort(arr, 0, arr.length - 1);\n",
    "        long endTime = System.nanoTime();\n",
    "        long duration = (endTime - startTime);\n",
    "        System.out.println(\"Sorted array: \" + Arrays.toString(arr));\n",
    "        System.out.println(\"Time taken: \" + duration + \" nanoseconds\");\n",
    "    }\n",
    "}\n",
    "\n",
    "QuickSort.main(null);"
   ]
  },
  {
   "cell_type": "markdown",
   "metadata": {},
   "source": [
    "# Selection Sort!"
   ]
  },
  {
   "cell_type": "code",
   "execution_count": 3,
   "metadata": {
    "vscode": {
     "languageId": "java"
    }
   },
   "outputs": [
    {
     "name": "stdout",
     "output_type": "stream",
     "text": [
      "Original array: [59, 95, 1, 12, 34]\n",
      "Sorted array: [1, 12, 34, 59, 95]\n",
      "Time taken: 4100 nanoseconds\n"
     ]
    }
   ],
   "source": [
    "import java.util.Arrays;\n",
    "public class SelectionSort {\n",
    "    public static void selectionSort(int[] arr) {\n",
    "        int n = arr.length;\n",
    "        for (int i = 0; i < n - 1; i++) {\n",
    "            int minIndex = i;\n",
    "            for (int j = i + 1; j < n; j++) {\n",
    "                if (arr[j] < arr[minIndex]) {\n",
    "                    minIndex = j;\n",
    "                }\n",
    "            }\n",
    "            // Swap the found minimum element with the first element\n",
    "            int temp = arr[minIndex];\n",
    "            arr[minIndex] = arr[i];\n",
    "            arr[i] = temp;\n",
    "        }\n",
    "    }\n",
    "    // main method for testing\n",
    "    public static void main(String[] args) {\n",
    "        int[] arr = {59, 95, 1, 12, 34};\n",
    "        System.out.println(\"Original array: \" + Arrays.toString(arr));\n",
    "        long startTime = System.nanoTime();\n",
    "        selectionSort(arr);\n",
    "        long endTime = System.nanoTime();\n",
    "        long duration = (endTime - startTime);\n",
    "        System.out.println(\"Sorted array: \" + Arrays.toString(arr));\n",
    "        System.out.println(\"Time taken: \" + duration + \" nanoseconds\");\n",
    "    }\n",
    "}\n",
    "SelectionSort.main(null);"
   ]
  },
  {
   "cell_type": "markdown",
   "metadata": {},
   "source": [
    "# Bubble Sort!"
   ]
  },
  {
   "cell_type": "markdown",
   "metadata": {},
   "source": [
    "### Implementation of largest to smallest"
   ]
  },
  {
   "cell_type": "code",
   "execution_count": 55,
   "metadata": {
    "vscode": {
     "languageId": "java"
    }
   },
   "outputs": [
    {
     "name": "stdout",
     "output_type": "stream",
     "text": [
      "Original array: [59, 95, 1, 12, 34]\n",
      "Sorted array: [95, 59, 12, 34, 1]\n",
      "Time taken: 1300 nanoseconds\n"
     ]
    }
   ],
   "source": [
    "import java.util.Arrays;\n",
    "public class BubbleSort {\n",
    "    public static void bubbleSort(int arr[], int n){\n",
    "        int i;\n",
    "        int j;\n",
    "        int temp;\n",
    "        boolean swapped;\n",
    "\n",
    "        for(i = 0; i < n; i++){\n",
    "            swapped = false;\n",
    "            for(j = 0; j < n - i - 1; j++){\n",
    "                if(arr[j] < arr[j + 1]){\n",
    "                    temp = arr[j];\n",
    "                    arr[j] = arr[j + 1];\n",
    "                    arr[j + 1] = temp;\n",
    "                }\n",
    "            }\n",
    "            if (swapped == false){\n",
    "                break;\n",
    "            }\n",
    "        }\n",
    "    }\n",
    "    public static void main(String[] args) {\n",
    "        int[] arr = {59, 95, 1, 12, 34};\n",
    "        System.out.println(\"Original array: \" + Arrays.toString(arr));\n",
    "        long startTime = System.nanoTime();\n",
    "        bubbleSort(arr, arr.length);\n",
    "        long endTime = System.nanoTime();\n",
    "        long duration = (endTime - startTime);\n",
    "        System.out.println(\"Sorted array: \" + Arrays.toString(arr));\n",
    "        System.out.println(\"Time taken: \" + duration + \" nanoseconds\");\n",
    "    }\n",
    "}\n",
    "\n",
    "BubbleSort.main(null);"
   ]
  },
  {
   "cell_type": "markdown",
   "metadata": {},
   "source": [
    "### Implementation of smallest to largest"
   ]
  },
  {
   "cell_type": "code",
   "execution_count": 53,
   "metadata": {
    "vscode": {
     "languageId": "java"
    }
   },
   "outputs": [
    {
     "name": "stdout",
     "output_type": "stream",
     "text": [
      "Original array: [59, 95, 1, 12, 34]\n",
      "Sorted array: [1, 12, 34, 59, 95]\n",
      "Time taken: 1400 nanoseconds\n"
     ]
    }
   ],
   "source": [
    "import java.util.Arrays;\n",
    "public class BubbleSort {\n",
    "    public static void bubbleSort(int arr[], int n){\n",
    "        int i;\n",
    "        int j;\n",
    "        int temp;\n",
    "        boolean swapped;\n",
    "\n",
    "        for(i = 0; i < n; i++){\n",
    "            swapped = false;\n",
    "            for(j = 0; j < n - i - 1; j++){\n",
    "                if(arr[j] > arr[j + 1]){\n",
    "                    temp = arr[j + 1];\n",
    "                    arr[j + 1] = arr[j];\n",
    "                    arr[j] = temp;\n",
    "                    swapped = true;\n",
    "                }\n",
    "            }\n",
    "            if (swapped == false){\n",
    "                break;\n",
    "            }\n",
    "        }\n",
    "    }\n",
    "    public static void main(String[] args) {\n",
    "        int[] arr = {59, 95, 1, 12, 34};\n",
    "        System.out.println(\"Original array: \" + Arrays.toString(arr));\n",
    "        long startTime = System.nanoTime();\n",
    "        bubbleSort(arr, arr.length);\n",
    "        long endTime = System.nanoTime();\n",
    "        long duration = (endTime - startTime);\n",
    "        System.out.println(\"Sorted array: \" + Arrays.toString(arr));\n",
    "        System.out.println(\"Time taken: \" + duration + \" nanoseconds\");\n",
    "    }\n",
    "}\n",
    "\n",
    "BubbleSort.main(null);"
   ]
  }
 ],
 "metadata": {
  "kernelspec": {
   "display_name": "Java",
   "language": "java",
   "name": "java"
  },
  "language_info": {
   "codemirror_mode": "java",
   "file_extension": ".jshell",
   "mimetype": "text/x-java-source",
   "name": "Java",
   "pygments_lexer": "java",
   "version": "11.0.17+8-post-Ubuntu-1ubuntu222.04"
  }
 },
 "nbformat": 4,
 "nbformat_minor": 2
}
