{
 "cells": [
  {
   "cell_type": "code",
   "execution_count": 25,
   "metadata": {
    "vscode": {
     "languageId": "java"
    }
   },
   "outputs": [
    {
     "name": "stdout",
     "output_type": "stream",
     "text": [
      "10 9 8 7 6 5 4 3 2 1 1 2 3 4 5 6 7 8 9 10 "
     ]
    }
   ],
   "source": [
    "int[] intArray = {1, 2, 3, 4, 5, 6, 7, 8, 9, 10};\n",
    "public void intReverse(){\n",
    "    for(int i=intArray.length; i > 0; i--){\n",
    "        System.out.print(intArray[i-1] + \" \");\n",
    "    }\n",
    "    for(int i=0; i < intArray.length; i++){\n",
    "        System.out.print(intArray[i] + \" \");\n",
    "    }\n",
    "}\n",
    "intReverse();\n"
   ]
  },
  {
   "cell_type": "code",
   "execution_count": 1,
   "metadata": {
    "vscode": {
     "languageId": "java"
    }
   },
   "outputs": [
    {
     "ename": "CompilationException",
     "evalue": "",
     "output_type": "error",
     "traceback": [
      "\u001b[1m\u001b[30m|   \u001b[1m\u001b[30m    ArrayList<Integer> aL = \u001b[0m\u001b[1m\u001b[30m\u001b[41mnew ArrayList<Integer>[]\u001b[0m\u001b[1m\u001b[30m;\u001b[0m",
      "\u001b[1m\u001b[31marray dimension missing\u001b[0m",
      ""
     ]
    }
   ],
   "source": [
    "import java.util.Random;\n",
    "import java.util.ArrayList;\n",
    "\n",
    "\n",
    "// double rand1 = rand.nextInt(9);\n",
    "\n",
    "public void RandomArrayList(int n, int min, int max){\n",
    "    ArrayList<Integer> aL = new ArrayList<Integer>[];\n",
    "    Random rand = new Random();\n",
    "    for(int i = 0; i < n; i++){\n",
    "        int rand1 = rand.nextInt(max);\n",
    "        while(rand1 < min){\n",
    "            rand1 = rand.nextInt(max);\n",
    "        }\n",
    "        aL.add(rand1);\n",
    "    }\n",
    "}\n",
    "\n",
    "RandomArrayList(5, 0, 3);"
   ]
  }
 ],
 "metadata": {
  "kernelspec": {
   "display_name": "Java",
   "language": "java",
   "name": "java"
  },
  "language_info": {
   "codemirror_mode": "java",
   "file_extension": ".jshell",
   "mimetype": "text/x-java-source",
   "name": "Java",
   "pygments_lexer": "java",
   "version": "17.0.8.1+1-Ubuntu-0ubuntu120.04"
  },
  "orig_nbformat": 4
 },
 "nbformat": 4,
 "nbformat_minor": 2
}
